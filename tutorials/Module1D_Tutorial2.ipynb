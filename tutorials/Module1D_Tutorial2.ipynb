{
  "cells": [
    {
      "cell_type": "markdown",
      "metadata": {
        "id": "view-in-github",
        "colab_type": "text"
      },
      "source": [
        "<a href=\"https://colab.research.google.com/github/tugcegurbuz/MiCM2022_Introduction-to-ML/blob/main/tutorials/Module1D_Tutorial2.ipynb\" target=\"_parent\"><img src=\"https://colab.research.google.com/assets/colab-badge.svg\" alt=\"Open In Colab\"/></a>"
      ]
    },
    {
      "cell_type": "markdown",
      "metadata": {
        "execution": {},
        "id": "9um-P5uXdhMH"
      },
      "source": [
        "# Module 1D - Tutorial 2: Regularization\n",
        "\n",
        "By [Tugce Gurbuz ](https://www.tugcegurbuz.com)as a part of [MiCM-2022](https://www.mcgill.ca/micm/) Introduction to Machine Learning workshop\n",
        "\n",
        "**Reference:** Adapted from [Neuromatch Academy - Deep Learning Summer School](https://deeplearning.neuromatch.io/tutorials/intro.html) - [W2D1 materials](https://deeplearning.neuromatch.io/tutorials/W2D1_Regularization/chapter_title.html)"
      ]
    },
    {
      "cell_type": "markdown",
      "metadata": {
        "execution": {},
        "id": "uhtjyzmjdhMJ"
      },
      "source": [
        "<p align='center'><img src='https://github.com/tugcegurbuz/MiCM2022_Introduction-to-ML/blob/main/miscellaneous/micm_logo.jpg?raw=True'/></p>"
      ]
    },
    {
      "cell_type": "markdown",
      "metadata": {
        "execution": {},
        "id": "IQOXKNcIdhMK"
      },
      "source": [
        "---\n",
        "# Tutorial Objectives\n",
        "\n",
        "1. Regularization as shrinkage of overparameterized models: L1 and L2\n",
        "2. Regularization by Dropout\n",
        "3. Regularization by Data Augmentation\n",
        "4. Perils of Hyper-Parameter Tuning\n",
        "5. Rethinking generalization"
      ]
    },
    {
      "cell_type": "markdown",
      "metadata": {
        "execution": {},
        "id": "ITEdevAKdhMM"
      },
      "source": [
        "If you want to locally download the slides for Module 1D, click [here](https://github.com/tugcegurbuz/MiCM2022_Introduction-to-ML/raw/main/slides/Module1D-Regularization.pdf)."
      ]
    },
    {
      "cell_type": "markdown",
      "metadata": {
        "execution": {},
        "id": "xaN0MfvddhMM"
      },
      "source": [
        "---\n",
        "# Setup\n",
        "Note that some of the code for today can take up to an hour to run. We have therefore \"hidden\" that code and shown the resulting outputs."
      ]
    },
    {
      "cell_type": "code",
      "execution_count": null,
      "metadata": {
        "cellView": "form",
        "execution": {},
        "id": "0Q6pPRaVdhMM"
      },
      "outputs": [],
      "source": [
        "# @title Install dependencies\n",
        "\n",
        "# @markdown **WARNING**: There may be *errors* and/or *warnings* reported during the installation. However, they should be ignored.\n",
        "\n",
        "!pip install imageio --quiet\n",
        "!pip install imageio-ffmpeg --quiet\n",
        "!pip install git+https://github.com/NeuromatchAcademy/evaltools --quiet\n",
        "\n",
        "from evaltools.airtable import AirtableForm\n",
        "atform = AirtableForm('appn7VdPRseSoMXEG', 'W2D1_T2', 'https://portal.neuromatchacademy.org/api/redirect/to/db28603f-d241-43d1-a31e-65ddf830a21a')"
      ]
    },
    {
      "cell_type": "code",
      "execution_count": null,
      "metadata": {
        "execution": {},
        "id": "gdu4G8TAdhMN"
      },
      "outputs": [],
      "source": [
        "# Imports\n",
        "import copy\n",
        "import torch\n",
        "import random\n",
        "import pathlib\n",
        "\n",
        "import numpy as np\n",
        "import matplotlib.pyplot as plt\n",
        "import matplotlib.animation as animation\n",
        "\n",
        "import torch.nn as nn\n",
        "import torch.optim as optim\n",
        "import torch.nn.functional as F\n",
        "\n",
        "from torchvision import transforms\n",
        "from torchvision.datasets import ImageFolder\n",
        "\n",
        "from tqdm.auto import tqdm\n",
        "from IPython.display import HTML, display"
      ]
    },
    {
      "cell_type": "code",
      "execution_count": null,
      "metadata": {
        "cellView": "form",
        "execution": {},
        "id": "X-LE3u4UdhMO"
      },
      "outputs": [],
      "source": [
        "# @title Figure Settings\n",
        "import ipywidgets as widgets\n",
        "%matplotlib inline\n",
        "%config InlineBackend.figure_format = 'retina'\n",
        "plt.style.use(\"https://raw.githubusercontent.com/NeuromatchAcademy/content-creation/main/nma.mplstyle\")"
      ]
    },
    {
      "cell_type": "code",
      "execution_count": null,
      "metadata": {
        "cellView": "form",
        "execution": {},
        "id": "CaBtBcHGdhMO",
        "colab": {
          "base_uri": "https://localhost:8080/"
        },
        "outputId": "19873ad7-d1d5-4960-a5d6-f32d3033921e"
      },
      "outputs": [
        {
          "output_type": "stream",
          "name": "stdout",
          "text": [
            "Start downloading and unzipping `AnimalFaces` dataset...\n",
            "Download completed.\n"
          ]
        }
      ],
      "source": [
        "# @title Loading Animal Faces Data\n",
        "import requests, os\n",
        "from zipfile import ZipFile\n",
        "\n",
        "print(\"Start downloading and unzipping `AnimalFaces` dataset...\")\n",
        "name = 'afhq'\n",
        "fname = f\"{name}.zip\"\n",
        "url = f\"https://osf.io/kgfvj/download\"\n",
        "\n",
        "if not os.path.exists(fname):\n",
        "  r = requests.get(url, allow_redirects=True)\n",
        "  with open(fname, 'wb') as fh:\n",
        "    fh.write(r.content)\n",
        "\n",
        "  if os.path.exists(fname):\n",
        "    with ZipFile(fname, 'r') as zfile:\n",
        "      zfile.extractall(f\".\")\n",
        "      os.remove(fname)\n",
        "\n",
        "print(\"Download completed.\")"
      ]
    },
    {
      "cell_type": "code",
      "execution_count": null,
      "metadata": {
        "cellView": "form",
        "execution": {},
        "id": "FjBw5lEwdhMP",
        "colab": {
          "base_uri": "https://localhost:8080/"
        },
        "outputId": "bf8588ea-3627-4c40-a1af-7e7dc6e63dcb"
      },
      "outputs": [
        {
          "output_type": "stream",
          "name": "stdout",
          "text": [
            "Start downloading and unzipping `Randomized AnimalFaces` dataset...\n",
            "Download completed.\n"
          ]
        }
      ],
      "source": [
        "# @title Loading Animal Faces Randomized data\n",
        "\n",
        "print(\"Start downloading and unzipping `Randomized AnimalFaces` dataset...\")\n",
        "\n",
        "names = ['afhq_random_32x32', 'afhq_10_32x32']\n",
        "urls = [\"https://osf.io/9sj7p/download\",\n",
        "        \"https://osf.io/wvgkq/download\"]\n",
        "\n",
        "\n",
        "for i, name in enumerate(names):\n",
        "  url = urls[i]\n",
        "  fname = f\"{name}.zip\"\n",
        "\n",
        "  if not os.path.exists(fname):\n",
        "    r = requests.get(url, allow_redirects=True)\n",
        "    with open(fname, 'wb') as fh:\n",
        "      fh.write(r.content)\n",
        "\n",
        "    if os.path.exists(fname):\n",
        "      with ZipFile(fname, 'r') as zfile:\n",
        "        zfile.extractall(f\".\")\n",
        "        os.remove(fname)\n",
        "\n",
        "print(\"Download completed.\")"
      ]
    },
    {
      "cell_type": "code",
      "execution_count": null,
      "metadata": {
        "cellView": "form",
        "execution": {},
        "id": "G6rmIBT8dhMP"
      },
      "outputs": [],
      "source": [
        "# @title Plotting functions\n",
        "\n",
        "def imshow(img):\n",
        "  \"\"\"\n",
        "  Display unnormalized image\n",
        "\n",
        "  Args:\n",
        "    img: np.ndarray\n",
        "      Datapoint to visualize\n",
        "\n",
        "  Returns:\n",
        "    Nothing\n",
        "  \"\"\"\n",
        "  img = img / 2 + 0.5  # Unnormalize\n",
        "  npimg = img.numpy()\n",
        "  plt.imshow(np.transpose(npimg, (1, 2, 0)))\n",
        "  plt.axis(False)\n",
        "  plt.show()\n",
        "\n",
        "\n",
        "def plot_weights(norm, labels, ws, title='Weight Size Measurement'):\n",
        "  \"\"\"\n",
        "  Plot of weight size measurement [norm value vs layer]\n",
        "\n",
        "  Args:\n",
        "    norm: float\n",
        "      Norm values\n",
        "    labels: list\n",
        "      Targets\n",
        "    ws: list\n",
        "      Weights\n",
        "    title: string\n",
        "      Title of plot\n",
        "\n",
        "  Returns:\n",
        "    Nothing\n",
        "  \"\"\"\n",
        "  plt.figure(figsize=[8, 6])\n",
        "  plt.title(title)\n",
        "  plt.ylabel('Frobenius Norm Value')\n",
        "  plt.xlabel('Model Layers')\n",
        "  plt.bar(labels, ws)\n",
        "  plt.axhline(y=norm,\n",
        "              linewidth=1,\n",
        "              color='r',\n",
        "              ls='--',\n",
        "              label='Total Model F-Norm')\n",
        "  plt.legend()\n",
        "  plt.show()\n",
        "\n",
        "\n",
        "def visualize_data(dataloader):\n",
        "  \"\"\"\n",
        "  Helper function to visualize data\n",
        "\n",
        "  Args:\n",
        "    dataloader: torch.tensor\n",
        "      Dataloader to visualize\n",
        "\n",
        "  Returns:\n",
        "    Nothing\n",
        "  \"\"\"\n",
        "  for idx, (data,label) in enumerate(dataloader):\n",
        "    plt.figure(idx)\n",
        "    # Choose the datapoint you would like to visualize\n",
        "    index = 22\n",
        "\n",
        "    # Choose that datapoint using index and permute the dimensions\n",
        "    # and bring the pixel values between [0,1]\n",
        "    data = data[index].permute(1, 2, 0) * \\\n",
        "           torch.tensor([0.5, 0.5, 0.5]) + \\\n",
        "           torch.tensor([0.5, 0.5, 0.5])\n",
        "\n",
        "    # Convert the torch tensor into numpy\n",
        "    data = data.numpy()\n",
        "\n",
        "    plt.imshow(data)\n",
        "    plt.axis(False)\n",
        "    image_class = classes[label[index].item()]\n",
        "    print(f'The image belongs to : {image_class}')\n",
        "\n",
        "  plt.show()"
      ]
    },
    {
      "cell_type": "code",
      "execution_count": null,
      "metadata": {
        "cellView": "form",
        "execution": {},
        "id": "MWmTxSrndhMQ"
      },
      "outputs": [],
      "source": [
        "# @title Helper functions\n",
        "\n",
        "class AnimalNet(nn.Module):\n",
        "  \"\"\"\n",
        "  Network Class - Animal Faces with following structure:\n",
        "  nn.Linear(3 * 32 * 32, 128) # Fully connected layer 1\n",
        "  nn.Linear(128, 32) # Fully connected layer 2\n",
        "  nn.Linear(32, 3) # Fully connected layer 3\n",
        "  \"\"\"\n",
        "\n",
        "  def __init__(self):\n",
        "    \"\"\"\n",
        "    Initialize parameters of AnimalNet\n",
        "\n",
        "    Args:\n",
        "      None\n",
        "\n",
        "    Returns:\n",
        "      Nothing\n",
        "    \"\"\"\n",
        "    super(AnimalNet, self).__init__()\n",
        "    self.fc1 = nn.Linear(3 * 32 * 32, 128)\n",
        "    self.fc2 = nn.Linear(128, 32)\n",
        "    self.fc3 = nn.Linear(32, 3)\n",
        "\n",
        "  def forward(self, x):\n",
        "    \"\"\"\n",
        "    Forward Pass of AnimalNet\n",
        "\n",
        "    Args:\n",
        "      x: torch.tensor\n",
        "        Input features\n",
        "\n",
        "    Returns:\n",
        "      output: torch.tensor\n",
        "        Outputs/Predictions\n",
        "    \"\"\"\n",
        "    x = x.view(x.shape[0], -1)\n",
        "    x = F.relu(self.fc1(x))\n",
        "    x = F.relu(self.fc2(x))\n",
        "    x = self.fc3(x)\n",
        "    output = F.log_softmax(x, dim=1)\n",
        "    return output\n",
        "\n",
        "\n",
        "class Net(nn.Module):\n",
        "  \"\"\"\n",
        "  Network Class - 2D with following structure\n",
        "  nn.Linear(1, 300) + leaky_relu(self.fc1(x)) # First fully connected layer\n",
        "  nn.Linear(300, 500) + leaky_relu(self.fc2(x)) # Second fully connected layer\n",
        "  nn.Linear(500, 1) # Final fully connected layer\n",
        "  \"\"\"\n",
        "\n",
        "  def __init__(self):\n",
        "    \"\"\"\n",
        "    Initialize parameters of Net\n",
        "\n",
        "    Args:\n",
        "      None\n",
        "\n",
        "    Returns:\n",
        "      Nothing\n",
        "    \"\"\"\n",
        "    super(Net, self).__init__()\n",
        "\n",
        "    self.fc1 = nn.Linear(1, 300)\n",
        "    self.fc2 = nn.Linear(300, 500)\n",
        "    self.fc3 = nn.Linear(500, 1)\n",
        "\n",
        "  def forward(self, x):\n",
        "    \"\"\"\n",
        "    Forward pass of Net\n",
        "\n",
        "    Args:\n",
        "      x: torch.tensor\n",
        "        Input features\n",
        "\n",
        "    Returns:\n",
        "      x: torch.tensor\n",
        "        Output/Predictions\n",
        "    \"\"\"\n",
        "    x = F.leaky_relu(self.fc1(x))\n",
        "    x = F.leaky_relu(self.fc2(x))\n",
        "    output = self.fc3(x)\n",
        "    return output\n",
        "\n",
        "\n",
        "class BigAnimalNet(nn.Module):\n",
        "  \"\"\"\n",
        "  Network Class - Animal Faces with following structure:\n",
        "  nn.Linear(3*32*32, 124) + leaky_relu(self.fc1(x)) # First fully connected layer\n",
        "  nn.Linear(124, 64) + leaky_relu(self.fc2(x)) # Second fully connected layer\n",
        "  nn.Linear(64, 3) # Final fully connected layer\n",
        "  \"\"\"\n",
        "\n",
        "  def __init__(self):\n",
        "    \"\"\"\n",
        "    Initialize parameters for BigAnimalNet\n",
        "\n",
        "    Args:\n",
        "      None\n",
        "\n",
        "    Returns:\n",
        "      Nothing\n",
        "    \"\"\"\n",
        "    super(BigAnimalNet, self).__init__()\n",
        "    self.fc1 = nn.Linear(3*32*32, 124)\n",
        "    self.fc2 = nn.Linear(124, 64)\n",
        "    self.fc3 = nn.Linear(64, 3)\n",
        "\n",
        "  def forward(self, x):\n",
        "    \"\"\"\n",
        "    Forward pass of BigAnimalNet\n",
        "\n",
        "    Args:\n",
        "      x: torch.tensor\n",
        "        Input features\n",
        "\n",
        "    Returns:\n",
        "      x: torch.tensor\n",
        "        Output/Predictions\n",
        "    \"\"\"\n",
        "    x = x.view(x.shape[0],-1)\n",
        "    x = F.leaky_relu(self.fc1(x))\n",
        "    x = F.leaky_relu(self.fc2(x))\n",
        "    x = self.fc3(x)\n",
        "    output = F.log_softmax(x, dim=1)\n",
        "    return output\n",
        "\n",
        "\n",
        "def train(args, model, train_loader, optimizer, epoch,\n",
        "          reg_function1=None, reg_function2=None, criterion=F.nll_loss):\n",
        "  \"\"\"\n",
        "  Trains the current input model using the data\n",
        "  from Train_loader and Updates parameters for a single pass\n",
        "\n",
        "  Args:\n",
        "    args: dictionary\n",
        "      Dictionary with epochs: 200, lr: 5e-3, momentum: 0.9, device: DEVICE\n",
        "    model: nn.module\n",
        "      Neural network instance\n",
        "    train_loader: torch.loader\n",
        "      Input dataset\n",
        "    optimizer: function\n",
        "      Optimizer\n",
        "    reg_function1: function\n",
        "      Regularisation function [default: None]\n",
        "    reg_function2: function\n",
        "      Regularisation function [default: None]\n",
        "    criterion: function\n",
        "      Specifies loss function [default: nll_loss]\n",
        "\n",
        "  Returns:\n",
        "    model: nn.module\n",
        "      Neural network instance post training\n",
        "  \"\"\"\n",
        "  device = args['device']\n",
        "  model.train()\n",
        "  for batch_idx, (data, target) in enumerate(train_loader):\n",
        "    data, target = data.to(device), target.to(device)\n",
        "    optimizer.zero_grad()\n",
        "    output = model(data)\n",
        "    # L1 regularization\n",
        "    if reg_function2 is None and reg_function1 is not None:\n",
        "      loss = criterion(output, target) + args['lambda1']*reg_function1(model)\n",
        "    # L2 regularization\n",
        "    elif reg_function1 is None and reg_function2 is not None:\n",
        "      loss = criterion(output, target) + args['lambda2']*reg_function2(model)\n",
        "    # No regularization\n",
        "    elif reg_function1 is None and reg_function2 is None:\n",
        "      loss = criterion(output, target)\n",
        "    # Both L1 and L2 regularizations\n",
        "    else:\n",
        "      loss = criterion(output, target) + args['lambda1']*reg_function1(model) + args['lambda2']*reg_function2(model)\n",
        "    loss.backward()\n",
        "    optimizer.step()\n",
        "\n",
        "  return model\n",
        "\n",
        "\n",
        "def test(model, test_loader, loader='Test', criterion=F.nll_loss,\n",
        "         device='cpu'):\n",
        "  \"\"\"\n",
        "  Tests the current model\n",
        "\n",
        "  Args:\n",
        "    model: nn.module\n",
        "      Neural network instance\n",
        "    device: string\n",
        "      GPU/CUDA if available, CPU otherwise\n",
        "    test_loader: torch.loader\n",
        "      Test dataset\n",
        "    criterion: function\n",
        "      Specifies loss function [default: nll_loss]\n",
        "\n",
        "  Returns:\n",
        "    test_loss: float\n",
        "      Test loss\n",
        "  \"\"\"\n",
        "  model.eval()\n",
        "  test_loss = 0\n",
        "  correct = 0\n",
        "  with torch.no_grad():\n",
        "    for data, target in test_loader:\n",
        "      data, target = data.to(device), target.to(device)\n",
        "      output = model(data)\n",
        "      test_loss += criterion(output, target, reduction='sum').item()  # sum up batch loss\n",
        "      pred = output.argmax(dim=1, keepdim=True)  # Get the index of the max log-probability\n",
        "      correct += pred.eq(target.view_as(pred)).sum().item()\n",
        "\n",
        "  test_loss /= len(test_loader.dataset)\n",
        "  return 100. * correct / len(test_loader.dataset)\n",
        "\n",
        "\n",
        "def main(args, model, train_loader, val_loader, test_data,\n",
        "         reg_function1=None, reg_function2=None, criterion=F.nll_loss):\n",
        "  \"\"\"\n",
        "  Trains the model with train_loader and\n",
        "  tests the learned model using val_loader\n",
        "\n",
        "  Args:\n",
        "    args: dictionary\n",
        "      Dictionary with epochs: 200, lr: 5e-3, momentum: 0.9, device: DEVICE\n",
        "    model: nn.module\n",
        "      Neural network instance\n",
        "    train_loader: torch.loader\n",
        "      Train dataset\n",
        "    val_loader: torch.loader\n",
        "      Validation set\n",
        "    reg_function1: function\n",
        "      Regularisation function [default: None]\n",
        "    reg_function2: function\n",
        "      Regularisation function [default: None]\n",
        "\n",
        "  Returns:\n",
        "    val_acc_list: list\n",
        "      Log of validation accuracy\n",
        "    train_acc_list: list\n",
        "      Log of training accuracy\n",
        "    param_norm_list: list\n",
        "      Log of frobenius norm\n",
        "    trained_model: nn.module\n",
        "      Trained model/model post training\n",
        "  \"\"\"\n",
        "  device = args['device']\n",
        "\n",
        "  model = model.to(device)\n",
        "  optimizer = optim.SGD(model.parameters(), lr=args['lr'], momentum=args['momentum'])\n",
        "\n",
        "  val_acc_list, train_acc_list,param_norm_list = [], [], []\n",
        "  for epoch in tqdm(range(args['epochs'])):\n",
        "    trained_model = train(args, model, train_loader, optimizer, epoch,\n",
        "                          reg_function1=reg_function1,\n",
        "                          reg_function2=reg_function2)\n",
        "    train_acc = test(trained_model, train_loader, loader='Train', device=device)\n",
        "    val_acc = test(trained_model, val_loader, loader='Val', device=device)\n",
        "    param_norm = calculate_frobenius_norm(trained_model)\n",
        "    train_acc_list.append(train_acc)\n",
        "    val_acc_list.append(val_acc)\n",
        "    param_norm_list.append(param_norm)\n",
        "\n",
        "  return val_acc_list, train_acc_list, param_norm_list, model\n",
        "\n",
        "\n",
        "def calculate_frobenius_norm(model):\n",
        "    \"\"\"\n",
        "    Function to calculate frobenius norm\n",
        "\n",
        "    Args:\n",
        "      model: nn.module\n",
        "        Neural network instance\n",
        "\n",
        "    Returns:\n",
        "      norm: float\n",
        "        Frobenius norm\n",
        "    \"\"\"\n",
        "    norm = 0.0\n",
        "    # Sum the square of all parameters\n",
        "    for name,param in model.named_parameters():\n",
        "        norm += torch.norm(param).data**2\n",
        "    # Return a square root of the sum of squares of all the parameters\n",
        "    return norm**0.5\n",
        "\n",
        "\n",
        "def early_stopping_main(args, model, train_loader, val_loader, test_data):\n",
        "  \"\"\"\n",
        "  Function to simulate early stopping\n",
        "\n",
        "  Args:\n",
        "    args: dictionary\n",
        "      Dictionary with epochs: 200, lr: 5e-3, momentum: 0.9, device: DEVICE\n",
        "    model: nn.module\n",
        "      Neural network instance\n",
        "    train_loader: torch.loader\n",
        "      Train dataset\n",
        "    val_loader: torch.loader\n",
        "      Validation set\n",
        "\n",
        "  Returns:\n",
        "    val_acc_list: list\n",
        "      Val accuracy log until early stop point\n",
        "    train_acc_list: list\n",
        "      Training accuracy log until early stop point\n",
        "    best_model: nn.module\n",
        "      Model performing best with early stopping\n",
        "    best_epoch: int\n",
        "      Epoch at which early stopping occurs\n",
        "  \"\"\"\n",
        "  device = args['device']\n",
        "\n",
        "  model = model.to(device)\n",
        "  optimizer = optim.SGD(model.parameters(), lr=args['lr'], momentum=args['momentum'])\n",
        "\n",
        "  best_acc  = 0.0\n",
        "  best_epoch = 0\n",
        "\n",
        "  # Number of successive epochs that you want to wait before stopping training process\n",
        "  patience = 20\n",
        "\n",
        "  # Keps track of number of epochs during which the val_acc was less than best_acc\n",
        "  wait = 0\n",
        "\n",
        "  val_acc_list, train_acc_list = [], []\n",
        "  for epoch in tqdm(range(args['epochs'])):\n",
        "    trained_model = train(args, model, device, train_loader, optimizer, epoch)\n",
        "    train_acc = test(trained_model, train_loader, loader='Train', device=device)\n",
        "    val_acc = test(trained_model, val_loader, loader='Val', device=device)\n",
        "    if (val_acc > best_acc):\n",
        "      best_acc = val_acc\n",
        "      best_epoch = epoch\n",
        "      best_model = copy.deepcopy(trained_model)\n",
        "      wait = 0\n",
        "    else:\n",
        "      wait += 1\n",
        "    if (wait > patience):\n",
        "      print(f'Early stopped on epoch: {epoch}')\n",
        "      break\n",
        "    train_acc_list.append(train_acc)\n",
        "    val_acc_list.append(val_acc)\n",
        "\n",
        "  return val_acc_list, train_acc_list, best_model, best_epoch"
      ]
    },
    {
      "cell_type": "code",
      "execution_count": null,
      "metadata": {
        "cellView": "form",
        "execution": {},
        "id": "Z5gd8PBodhMT"
      },
      "outputs": [],
      "source": [
        "# @title Set random seed\n",
        "# @markdown Executing `set_seed(seed=seed)` you are setting the seed\n",
        "\n",
        "# For DL its critical to set the random seed so that students can have a\n",
        "# baseline to compare their results to expected results.\n",
        "# Read more here: https://pytorch.org/docs/stable/notes/randomness.html\n",
        "\n",
        "# Call `set_seed` function in the exercises to ensure reproducibility.\n",
        "import random\n",
        "import torch\n",
        "\n",
        "def set_seed(seed=None, seed_torch=True):\n",
        "  \"\"\"\n",
        "  Function that controls randomness. NumPy and random modules must be imported.\n",
        "\n",
        "  Args:\n",
        "    seed : Integer\n",
        "      A non-negative integer that defines the random state. Default is `None`.\n",
        "    seed_torch : Boolean\n",
        "      If `True` sets the random seed for pytorch tensors, so pytorch module\n",
        "      must be imported. Default is `True`.\n",
        "\n",
        "  Returns:\n",
        "    Nothing.\n",
        "  \"\"\"\n",
        "  if seed is None:\n",
        "    seed = np.random.choice(2 ** 32)\n",
        "  random.seed(seed)\n",
        "  np.random.seed(seed)\n",
        "  if seed_torch:\n",
        "    torch.manual_seed(seed)\n",
        "    torch.cuda.manual_seed_all(seed)\n",
        "    torch.cuda.manual_seed(seed)\n",
        "    torch.backends.cudnn.benchmark = False\n",
        "    torch.backends.cudnn.deterministic = True\n",
        "\n",
        "  print(f'Random seed {seed} has been set.')\n",
        "\n",
        "\n",
        "# In case that `DataLoader` is used\n",
        "def seed_worker(worker_id):\n",
        "  \"\"\"\n",
        "  DataLoader will reseed workers following randomness in\n",
        "  multi-process data loading algorithm.\n",
        "\n",
        "  Args:\n",
        "    worker_id: integer\n",
        "      ID of subprocess to seed. 0 means that\n",
        "      the data will be loaded in the main process\n",
        "      Refer: https://pytorch.org/docs/stable/data.html#data-loading-randomness for more details\n",
        "\n",
        "  Returns:\n",
        "    Nothing\n",
        "  \"\"\"\n",
        "  worker_seed = torch.initial_seed() % 2**32\n",
        "  np.random.seed(worker_seed)\n",
        "  random.seed(worker_seed)"
      ]
    },
    {
      "cell_type": "code",
      "execution_count": null,
      "metadata": {
        "cellView": "form",
        "execution": {},
        "id": "BP5eNdXMdhMU"
      },
      "outputs": [],
      "source": [
        "# @title Set device (GPU or CPU). Execute `set_device()`\n",
        "# especially if torch modules used.\n",
        "\n",
        "# Inform the user if the notebook uses GPU or CPU.\n",
        "\n",
        "def set_device():\n",
        "  \"\"\"\n",
        "  Set the device. CUDA if available, CPU otherwise\n",
        "\n",
        "  Args:\n",
        "    None\n",
        "\n",
        "  Returns:\n",
        "    Nothing\n",
        "  \"\"\"\n",
        "  device = \"cuda\" if torch.cuda.is_available() else \"cpu\"\n",
        "  if device != \"cuda\":\n",
        "    print(\"WARNING: For this notebook to perform best, \"\n",
        "        \"if possible, in the menu under `Runtime` -> \"\n",
        "        \"`Change runtime type.`  select `GPU` \")\n",
        "  else:\n",
        "    print(\"GPU is enabled in this notebook.\")\n",
        "\n",
        "  return device"
      ]
    },
    {
      "cell_type": "code",
      "execution_count": null,
      "metadata": {
        "execution": {},
        "id": "QgVVU9wqdhMV",
        "colab": {
          "base_uri": "https://localhost:8080/"
        },
        "outputId": "0d54b5fc-f40b-4930-97a9-97bcacb81898"
      },
      "outputs": [
        {
          "output_type": "stream",
          "name": "stdout",
          "text": [
            "Random seed 42 has been set.\n",
            "GPU is enabled in this notebook.\n"
          ]
        }
      ],
      "source": [
        "SEED = 42\n",
        "set_seed(seed=SEED)\n",
        "DEVICE = set_device()"
      ]
    },
    {
      "cell_type": "code",
      "execution_count": null,
      "metadata": {
        "cellView": "form",
        "execution": {},
        "id": "jiGSWEm0dhMV"
      },
      "outputs": [],
      "source": [
        "# @title Dataloaders for the Dataset\n",
        "## Dataloaders for the Dataset\n",
        "batch_size = 128\n",
        "classes = ('cat', 'dog', 'wild')\n",
        "\n",
        "train_transform = transforms.Compose([\n",
        "     transforms.ToTensor(),\n",
        "     transforms.Normalize((0.5, 0.5, 0.5), (0.5, 0.5, 0.5))\n",
        "     ])\n",
        "data_path = pathlib.Path('.')/'afhq' # Using pathlib to be compatible with all OS's\n",
        "img_dataset = ImageFolder(data_path/'train', transform=train_transform)\n",
        "\n",
        "\n",
        "####################################################\n",
        "g_seed = torch.Generator()\n",
        "g_seed.manual_seed(SEED)\n",
        "\n",
        "\n",
        "## Dataloaders for the  Original Dataset\n",
        "img_train_data, img_val_data,_ = torch.utils.data.random_split(img_dataset,\n",
        "                                                               [100, 100, 14430])\n",
        "\n",
        "# Creating train_loader and Val_loader\n",
        "train_loader = torch.utils.data.DataLoader(img_train_data,\n",
        "                                           batch_size=batch_size,\n",
        "                                           worker_init_fn=seed_worker,\n",
        "                                           num_workers=2,\n",
        "                                           generator=g_seed)\n",
        "val_loader = torch.utils.data.DataLoader(img_val_data,\n",
        "                                         batch_size=1000,\n",
        "                                         num_workers=2,\n",
        "                                         worker_init_fn=seed_worker,\n",
        "                                         generator=g_seed)\n",
        "\n",
        "# Creating test dataset\n",
        "test_transform = transforms.Compose([\n",
        "     transforms.ToTensor(),\n",
        "     transforms.Normalize((0.5, 0.5, 0.5), (0.5, 0.5, 0.5))\n",
        "     ])\n",
        "img_test_dataset = ImageFolder(data_path/'val', transform=test_transform)\n",
        "\n",
        "\n",
        "####################################################\n",
        "\n",
        "## Dataloaders for the  Random Dataset\n",
        "\n",
        "# Splitting randomized data into training and validation data\n",
        "data_path = pathlib.Path('.')/'afhq_random_32x32/afhq_random' # using pathlib to be compatible with all OS's\n",
        "img_dataset = ImageFolder(data_path/'train', transform=train_transform)\n",
        "random_img_train_data, random_img_val_data,_ = torch.utils.data.random_split(img_dataset, [100,100,14430])\n",
        "\n",
        "# Randomized train and validation dataloader\n",
        "rand_train_loader = torch.utils.data.DataLoader(random_img_train_data,\n",
        "                                                batch_size=batch_size,\n",
        "                                                num_workers=2,\n",
        "                                                worker_init_fn=seed_worker,\n",
        "                                                generator=g_seed)\n",
        "rand_val_loader = torch.utils.data.DataLoader(random_img_val_data,\n",
        "                                              batch_size=1000,\n",
        "                                              num_workers=2,\n",
        "                                              worker_init_fn=seed_worker,\n",
        "                                              generator=g_seed)\n",
        "\n",
        "####################################################\n",
        "\n",
        "## Dataloaders for the Partially Random Dataset\n",
        "\n",
        "# Splitting data between training and validation dataset for partially randomized data\n",
        "data_path = pathlib.Path('.')/'afhq_10_32x32/afhq_10' # using pathlib to be compatible with all OS's\n",
        "img_dataset = ImageFolder(data_path/'train', transform=train_transform)\n",
        "partially_random_train_data, partially_random_val_data, _ = torch.utils.data.random_split(img_dataset, [100,100,14430])\n",
        "\n",
        "# Training and Validation loader for partially randomized data\n",
        "partial_rand_train_loader = torch.utils.data.DataLoader(partially_random_train_data,\n",
        "                                                        batch_size=batch_size,\n",
        "                                                        num_workers=2,\n",
        "                                                        worker_init_fn=seed_worker,\n",
        "                                                        generator=g_seed)\n",
        "partial_rand_val_loader = torch.utils.data.DataLoader(partially_random_val_data,\n",
        "                                                      batch_size=1000,\n",
        "                                                      num_workers=2,\n",
        "                                                      worker_init_fn=seed_worker,\n",
        "                                                      generator=g_seed)"
      ]
    },
    {
      "cell_type": "markdown",
      "metadata": {
        "execution": {},
        "id": "WAmHj7l4dhMV"
      },
      "source": [
        "---\n",
        "# Section 1: L1 and L2 Regularization\n",
        "\n"
      ]
    },
    {
      "cell_type": "markdown",
      "metadata": {
        "execution": {},
        "id": "C7JJVoKqdhMW"
      },
      "source": [
        "L1 and L2 are the most common types of regularization. These update the general cost function by adding another term known as the regularization term.\n",
        "\n",
        "<br>\n",
        "\n",
        "\\begin{equation}\n",
        "\\text{Cost function} = Loss(\\text{e.g., binary cross entropy}) + \\text{Regularization term}\n",
        "\\end{equation}\n",
        "\n",
        "<br>\n",
        "\n",
        "This regularization term makes the parameters smaller, giving simpler models that will overfit less.\n"
      ]
    },
    {
      "cell_type": "markdown",
      "metadata": {
        "execution": {},
        "id": "ddreDrlsdhMW"
      },
      "source": [
        "## Section 1.1: Unregularized Model"
      ]
    },
    {
      "cell_type": "code",
      "execution_count": null,
      "metadata": {
        "cellView": "form",
        "execution": {},
        "id": "et7wGrWCdhMW"
      },
      "outputs": [],
      "source": [
        "# @markdown #### Dataloaders for Regularization\n",
        "data_path = pathlib.Path('.')/'afhq' # Using pathlib to be compatible with all OS's\n",
        "img_dataset = ImageFolder(data_path/'train', transform=train_transform)\n",
        "\n",
        "# Splitting dataset\n",
        "reg_train_data, reg_val_data,_ = torch.utils.data.random_split(img_dataset,\n",
        "                                                               [30, 100, 14500])\n",
        "g_seed = torch.Generator()\n",
        "g_seed.manual_seed(SEED)\n",
        "\n",
        "# Creating train_loader and Val_loader\n",
        "reg_train_loader = torch.utils.data.DataLoader(reg_train_data,\n",
        "                                               batch_size=batch_size,\n",
        "                                               worker_init_fn=seed_worker,\n",
        "                                               num_workers=2,\n",
        "                                               generator=g_seed)\n",
        "reg_val_loader = torch.utils.data.DataLoader(reg_val_data,\n",
        "                                             batch_size=1000,\n",
        "                                             worker_init_fn=seed_worker,\n",
        "                                             num_workers=2,\n",
        "                                             generator=g_seed)"
      ]
    },
    {
      "cell_type": "markdown",
      "metadata": {
        "execution": {},
        "id": "rEt2vSlddhMW"
      },
      "source": [
        "Now let's train a model without regularization and keep it aside as our benchmark for this section."
      ]
    },
    {
      "cell_type": "code",
      "execution_count": null,
      "metadata": {
        "execution": {},
        "id": "qtuYQptxdhMW",
        "colab": {
          "base_uri": "https://localhost:8080/",
          "height": 497,
          "referenced_widgets": [
            "386b057b6bcc42dfa05f4994cb4b851e",
            "39dc7e18cc7c4fde91d08cc24deae3d5",
            "ab4b51a21b364d40b47621d44fa32f5c",
            "a220be201a1248bbb75f0b017dcb7371",
            "c9ade6149b20411ca2d1b8d6264d92dc",
            "ce3f748a92824177abbb84e2c380e093",
            "8650e71c20aa4234bf80af7644133e72",
            "58b1b3a5a4324d95bb4c315e98b2a1a6",
            "d114e1c6fdea414c8316f78706ff481a",
            "74fc19612f234ed4839b8b4b31c83082",
            "f5981c5d74a94a0a940f6fbef76d1295"
          ]
        },
        "outputId": "5e081c2f-e034-4686-8fef-2e452ccb0841"
      },
      "outputs": [
        {
          "output_type": "stream",
          "name": "stdout",
          "text": [
            "Random seed 2021 has been set.\n"
          ]
        },
        {
          "output_type": "display_data",
          "data": {
            "text/plain": [
              "  0%|          | 0/150 [00:00<?, ?it/s]"
            ],
            "application/vnd.jupyter.widget-view+json": {
              "version_major": 2,
              "version_minor": 0,
              "model_id": "386b057b6bcc42dfa05f4994cb4b851e"
            }
          },
          "metadata": {}
        },
        {
          "output_type": "display_data",
          "data": {
            "text/plain": [
              "<Figure size 576x432 with 1 Axes>"
            ],
            "image/png": "[encoded data removed]"
          },
          "metadata": {
            "image/png": {
              "width": 558,
              "height": 413
            },
            "needs_background": "light"
          }
        },
        {
          "output_type": "stream",
          "name": "stdout",
          "text": [
            "Maximum Validation Accuracy reached: 50.0\n"
          ]
        }
      ],
      "source": [
        "# Set the arguments\n",
        "args = {\n",
        "    'epochs': 150,\n",
        "    'lr': 5e-3,\n",
        "    'momentum': 0.99,\n",
        "    'device': DEVICE,\n",
        "}\n",
        "\n",
        "# Initialize the model\n",
        "set_seed(seed=SEED)\n",
        "model = AnimalNet()\n",
        "\n",
        "# Train the model\n",
        "val_acc_unreg, train_acc_unreg, param_norm_unreg, _ = main(args,\n",
        "                                                           model,\n",
        "                                                           reg_train_loader,\n",
        "                                                           reg_val_loader,\n",
        "                                                           img_test_dataset)\n",
        "\n",
        "# Train and Test accuracy plot\n",
        "plt.figure()\n",
        "plt.plot(val_acc_unreg, label='Val Accuracy', c='red', ls='dashed')\n",
        "plt.plot(train_acc_unreg, label='Train Accuracy', c='red', ls='solid')\n",
        "plt.axhline(y=max(val_acc_unreg), c='green', ls='dashed')\n",
        "plt.title('Unregularized Model')\n",
        "plt.ylabel('Accuracy (%)')\n",
        "plt.xlabel('Epoch')\n",
        "plt.legend()\n",
        "plt.show()\n",
        "print(f\"Maximum Validation Accuracy reached: {max(val_acc_unreg)}\")"
      ]
    },
    {
      "cell_type": "markdown",
      "metadata": {
        "execution": {},
        "id": "-wsR5BLmdhMX"
      },
      "source": [
        "## Section 1.2: L1 Regularization"
      ]
    },
    {
      "cell_type": "markdown",
      "metadata": {
        "execution": {},
        "id": "xyUMX9zVdhMX"
      },
      "source": [
        "L1 Regularization (or LASSO$^{\\ddagger}$) uses a penalty which is the sum of the absolute value of all the weights in the Deep Learning architecture, resulting in the following loss function ($L$ is the usual Cross-Entropy loss):\n",
        "\n",
        "\\begin{equation}\n",
        "  L_R = L + \\lambda \\sum \\left| w^{(r)}_{ij} \\right|\n",
        "\\end{equation}\n",
        "\n",
        "where $r$ denotes the layer, and $ij$ the specific weight in that layer.\n",
        "\n",
        "At a high level, L1 Regularization is similar to L2 Regularization since it leads to smaller weights (you will see the analogy in the next subsection). It results in the following weight update equation when using Stochastic Gradient Descent:\n",
        "\n",
        "\\begin{equation}\n",
        "  w^{(r)}_{ij}←w^{(r)}_{ij} − \\eta \\cdot \\lambda \\cdot \\text{sgn}\\left(w^{(r)}_{ij}\\right)−\\eta \\frac{\\partial L}{\\partial w_{ij}^{(r)}} \n",
        "\\end{equation}\n",
        "\n",
        "where  $\\text{sgn}(\\cdot)$ is the sign function, such that\n",
        "\n",
        "\\begin{equation}\n",
        "\\text{sgn}(w) = \n",
        "\\left\\{\n",
        "  \\begin{array}{ll}\n",
        "  +1 & \\mbox{if  } w > 0 \\\\\n",
        "  -1 & \\mbox{if  } w < 0 \\\\\n",
        "  0 & \\mbox{if  } w = 0\n",
        "  \\end{array}\n",
        "\\right.\n",
        "\\end{equation}\n",
        "\n",
        "<br>\n",
        "\n",
        "$^{\\ddagger}$LASSO: Least Absolute Shrinkage and Selection Operator"
      ]
    },
    {
      "cell_type": "markdown",
      "metadata": {
        "execution": {},
        "id": "3OyRHAHqdhMX"
      },
      "source": [
        "### Coding Exercise 1.1: L1 Regularization\n",
        "\n",
        "Write a function that calculates the L1 norm of all the tensors of a PyTorch model."
      ]
    },
    {
      "cell_type": "code",
      "execution_count": null,
      "metadata": {
        "execution": {},
        "id": "AHUPMIJVdhMX",
        "colab": {
          "base_uri": "https://localhost:8080/"
        },
        "outputId": "da08a264-5b02-4f58-8c38-dbbb9f386878"
      },
      "outputs": [
        {
          "output_type": "stream",
          "name": "stdout",
          "text": [
            "Random seed 2021 has been set.\n"
          ]
        }
      ],
      "source": [
        "def l1_reg(model):\n",
        "  \"\"\"\n",
        "  This function calculates the l1 norm of the all the tensors in the model\n",
        "\n",
        "  Args:\n",
        "    model: nn.module\n",
        "      Neural network instance\n",
        "\n",
        "  Returns:\n",
        "    l1: float\n",
        "      L1 norm of the all the tensors in the model\n",
        "  \"\"\"\n",
        "  l1 = 0.0\n",
        "  ####################################################################\n",
        "  # Fill in all missing code below (...),\n",
        "  # then remove or comment the line below to test your function\n",
        "  raise NotImplementedError(\"Complete the l1_reg function\")\n",
        "  ####################################################################\n",
        "  for param in model.parameters():\n",
        "    l1 += torch.sum(...)\n",
        "\n",
        "  return l1\n",
        "\n",
        "set_seed(seed=SEED)\n",
        "## uncomment to test\n",
        "# net = nn.Linear(20, 20)\n",
        "# print(f\"L1 norm of the model: {l1_reg(net)}\")"
      ]
    },
    {
      "cell_type": "markdown",
      "metadata": {
        "execution": {},
        "id": "Th1Sf0xHdhMX"
      },
      "source": [
        "[*Click for solution*](https://github.com/NeuromatchAcademy/course-content-dl/tree/main//tutorials/W2D1_Regularization/solutions/W2D1_Tutorial2_Solution_1c902961.py)\n",
        "\n"
      ]
    },
    {
      "cell_type": "markdown",
      "metadata": {
        "execution": {},
        "id": "4FG0noyFdhMX"
      },
      "source": [
        "```\n",
        "Random seed 2021 has been set.\n",
        "L1 norm of the model: 48.445133209228516\n",
        "```"
      ]
    },
    {
      "cell_type": "markdown",
      "metadata": {
        "execution": {},
        "id": "SKCVfx_fdhMX"
      },
      "source": [
        "Now, let's train a classifier that uses L1 regularization. Tune the hyperparameter `lambda1` such that the validation accuracy is higher than that of the unregularized model."
      ]
    },
    {
      "cell_type": "code",
      "execution_count": null,
      "metadata": {
        "execution": {},
        "id": "IBLD7vCddhMY",
        "colab": {
          "base_uri": "https://localhost:8080/",
          "height": 429,
          "referenced_widgets": [
            "c564e71dc93b48ca80fd42dfd418311b",
            "987742a7fb4e4727807ba77aea5f9cfe",
            "bb236ca34c5d41e18e0c4dbfd99062ce",
            "b8850d4d8a204c42833602bef27e1bbd",
            "1f523a2eb3044ad1bad5d377ca44e488",
            "8b5346cbb5ec468296f24e5f5eb65206",
            "b8b9b21bc3eb4e84bf7496f8c2f1530e",
            "66a77affd8e04095a1c9ec5b82b44922",
            "5095bf7d70894c958fb4e78af03aaa32",
            "5a69c9a088224a17917ad6bc3225d83a",
            "0bd2b01ac9364c0d808439c3d723a0b0"
          ]
        },
        "outputId": "811ac152-0165-4540-a911-d064940d194c"
      },
      "outputs": [
        {
          "output_type": "stream",
          "name": "stdout",
          "text": [
            "Random seed 2021 has been set.\n"
          ]
        },
        {
          "output_type": "display_data",
          "data": {
            "text/plain": [
              "  0%|          | 0/150 [00:00<?, ?it/s]"
            ],
            "application/vnd.jupyter.widget-view+json": {
              "version_major": 2,
              "version_minor": 0,
              "model_id": "c564e71dc93b48ca80fd42dfd418311b"
            }
          },
          "metadata": {}
        },
        {
          "output_type": "error",
          "ename": "NotImplementedError",
          "evalue": "ignored",
          "traceback": [
            "\u001b[0;31m---------------------------------------------------------------------------\u001b[0m",
            "\u001b[0;31mNotImplementedError\u001b[0m                       Traceback (most recent call last)",
            "\u001b[0;32m<ipython-input-36-9615cbd732d0>\u001b[0m in \u001b[0;36m<module>\u001b[0;34m()\u001b[0m\n\u001b[1;32m     19\u001b[0m                                                            \u001b[0mreg_val_loader\u001b[0m\u001b[0;34m,\u001b[0m\u001b[0;34m\u001b[0m\u001b[0;34m\u001b[0m\u001b[0m\n\u001b[1;32m     20\u001b[0m                                                            \u001b[0mimg_test_dataset\u001b[0m\u001b[0;34m,\u001b[0m\u001b[0;34m\u001b[0m\u001b[0;34m\u001b[0m\u001b[0m\n\u001b[0;32m---> 21\u001b[0;31m                                                            reg_function1=l1_reg)\n\u001b[0m\u001b[1;32m     22\u001b[0m \u001b[0;34m\u001b[0m\u001b[0m\n\u001b[1;32m     23\u001b[0m \u001b[0;31m# Train and Test accuracy plot\u001b[0m\u001b[0;34m\u001b[0m\u001b[0;34m\u001b[0m\u001b[0;34m\u001b[0m\u001b[0m\n",
            "\u001b[0;32m<ipython-input-28-c51f0aa7894d>\u001b[0m in \u001b[0;36mmain\u001b[0;34m(args, model, train_loader, val_loader, test_data, reg_function1, reg_function2, criterion)\u001b[0m\n\u001b[1;32m    252\u001b[0m     trained_model = train(args, model, train_loader, optimizer, epoch,\n\u001b[1;32m    253\u001b[0m                           \u001b[0mreg_function1\u001b[0m\u001b[0;34m=\u001b[0m\u001b[0mreg_function1\u001b[0m\u001b[0;34m,\u001b[0m\u001b[0;34m\u001b[0m\u001b[0;34m\u001b[0m\u001b[0m\n\u001b[0;32m--> 254\u001b[0;31m                           reg_function2=reg_function2)\n\u001b[0m\u001b[1;32m    255\u001b[0m     \u001b[0mtrain_acc\u001b[0m \u001b[0;34m=\u001b[0m \u001b[0mtest\u001b[0m\u001b[0;34m(\u001b[0m\u001b[0mtrained_model\u001b[0m\u001b[0;34m,\u001b[0m \u001b[0mtrain_loader\u001b[0m\u001b[0;34m,\u001b[0m \u001b[0mloader\u001b[0m\u001b[0;34m=\u001b[0m\u001b[0;34m'Train'\u001b[0m\u001b[0;34m,\u001b[0m \u001b[0mdevice\u001b[0m\u001b[0;34m=\u001b[0m\u001b[0mdevice\u001b[0m\u001b[0;34m)\u001b[0m\u001b[0;34m\u001b[0m\u001b[0;34m\u001b[0m\u001b[0m\n\u001b[1;32m    256\u001b[0m     \u001b[0mval_acc\u001b[0m \u001b[0;34m=\u001b[0m \u001b[0mtest\u001b[0m\u001b[0;34m(\u001b[0m\u001b[0mtrained_model\u001b[0m\u001b[0;34m,\u001b[0m \u001b[0mval_loader\u001b[0m\u001b[0;34m,\u001b[0m \u001b[0mloader\u001b[0m\u001b[0;34m=\u001b[0m\u001b[0;34m'Val'\u001b[0m\u001b[0;34m,\u001b[0m \u001b[0mdevice\u001b[0m\u001b[0;34m=\u001b[0m\u001b[0mdevice\u001b[0m\u001b[0;34m)\u001b[0m\u001b[0;34m\u001b[0m\u001b[0;34m\u001b[0m\u001b[0m\n",
            "\u001b[0;32m<ipython-input-28-c51f0aa7894d>\u001b[0m in \u001b[0;36mtrain\u001b[0;34m(args, model, train_loader, optimizer, epoch, reg_function1, reg_function2, criterion)\u001b[0m\n\u001b[1;32m    163\u001b[0m     \u001b[0;31m# L1 regularization\u001b[0m\u001b[0;34m\u001b[0m\u001b[0;34m\u001b[0m\u001b[0;34m\u001b[0m\u001b[0m\n\u001b[1;32m    164\u001b[0m     \u001b[0;32mif\u001b[0m \u001b[0mreg_function2\u001b[0m \u001b[0;32mis\u001b[0m \u001b[0;32mNone\u001b[0m \u001b[0;32mand\u001b[0m \u001b[0mreg_function1\u001b[0m \u001b[0;32mis\u001b[0m \u001b[0;32mnot\u001b[0m \u001b[0;32mNone\u001b[0m\u001b[0;34m:\u001b[0m\u001b[0;34m\u001b[0m\u001b[0;34m\u001b[0m\u001b[0m\n\u001b[0;32m--> 165\u001b[0;31m       \u001b[0mloss\u001b[0m \u001b[0;34m=\u001b[0m \u001b[0mcriterion\u001b[0m\u001b[0;34m(\u001b[0m\u001b[0moutput\u001b[0m\u001b[0;34m,\u001b[0m \u001b[0mtarget\u001b[0m\u001b[0;34m)\u001b[0m \u001b[0;34m+\u001b[0m \u001b[0margs\u001b[0m\u001b[0;34m[\u001b[0m\u001b[0;34m'lambda1'\u001b[0m\u001b[0;34m]\u001b[0m\u001b[0;34m*\u001b[0m\u001b[0mreg_function1\u001b[0m\u001b[0;34m(\u001b[0m\u001b[0mmodel\u001b[0m\u001b[0;34m)\u001b[0m\u001b[0;34m\u001b[0m\u001b[0;34m\u001b[0m\u001b[0m\n\u001b[0m\u001b[1;32m    166\u001b[0m     \u001b[0;31m# L2 regularization\u001b[0m\u001b[0;34m\u001b[0m\u001b[0;34m\u001b[0m\u001b[0;34m\u001b[0m\u001b[0m\n\u001b[1;32m    167\u001b[0m     \u001b[0;32melif\u001b[0m \u001b[0mreg_function1\u001b[0m \u001b[0;32mis\u001b[0m \u001b[0;32mNone\u001b[0m \u001b[0;32mand\u001b[0m \u001b[0mreg_function2\u001b[0m \u001b[0;32mis\u001b[0m \u001b[0;32mnot\u001b[0m \u001b[0;32mNone\u001b[0m\u001b[0;34m:\u001b[0m\u001b[0;34m\u001b[0m\u001b[0;34m\u001b[0m\u001b[0m\n",
            "\u001b[0;32m<ipython-input-35-c0be3b6c1b5e>\u001b[0m in \u001b[0;36ml1_reg\u001b[0;34m(model)\u001b[0m\n\u001b[1;32m     15\u001b[0m   \u001b[0;31m# Fill in all missing code below (...),\u001b[0m\u001b[0;34m\u001b[0m\u001b[0;34m\u001b[0m\u001b[0;34m\u001b[0m\u001b[0m\n\u001b[1;32m     16\u001b[0m   \u001b[0;31m# then remove or comment the line below to test your function\u001b[0m\u001b[0;34m\u001b[0m\u001b[0;34m\u001b[0m\u001b[0;34m\u001b[0m\u001b[0m\n\u001b[0;32m---> 17\u001b[0;31m   \u001b[0;32mraise\u001b[0m \u001b[0mNotImplementedError\u001b[0m\u001b[0;34m(\u001b[0m\u001b[0;34m\"Complete the l1_reg function\"\u001b[0m\u001b[0;34m)\u001b[0m\u001b[0;34m\u001b[0m\u001b[0;34m\u001b[0m\u001b[0m\n\u001b[0m\u001b[1;32m     18\u001b[0m   \u001b[0;31m####################################################################\u001b[0m\u001b[0;34m\u001b[0m\u001b[0;34m\u001b[0m\u001b[0;34m\u001b[0m\u001b[0m\n\u001b[1;32m     19\u001b[0m   \u001b[0;32mfor\u001b[0m \u001b[0mparam\u001b[0m \u001b[0;32min\u001b[0m \u001b[0mmodel\u001b[0m\u001b[0;34m.\u001b[0m\u001b[0mparameters\u001b[0m\u001b[0;34m(\u001b[0m\u001b[0;34m)\u001b[0m\u001b[0;34m:\u001b[0m\u001b[0;34m\u001b[0m\u001b[0;34m\u001b[0m\u001b[0m\n",
            "\u001b[0;31mNotImplementedError\u001b[0m: Complete the l1_reg function"
          ]
        }
      ],
      "source": [
        "# Set the arguments\n",
        "args1 = {\n",
        "    'test_batch_size': 1000,\n",
        "    'epochs': 150,\n",
        "    'lr': 5e-3,\n",
        "    'momentum': 0.99,\n",
        "    'device': DEVICE,\n",
        "    'lambda1': 0.001  # <<<<<<<< Tune the hyperparameter lambda1\n",
        "}\n",
        "\n",
        "# Initialize the model\n",
        "set_seed(seed=SEED)\n",
        "model = AnimalNet()\n",
        "\n",
        "# Train the model\n",
        "val_acc_l1reg, train_acc_l1reg, param_norm_l1reg, _ = main(args1,\n",
        "                                                           model,\n",
        "                                                           reg_train_loader,\n",
        "                                                           reg_val_loader,\n",
        "                                                           img_test_dataset,\n",
        "                                                           reg_function1=l1_reg)\n",
        "\n",
        "# Train and Test accuracy plot\n",
        "plt.figure()\n",
        "plt.plot(val_acc_l1reg, label='Val Accuracy L1 Regularized',\n",
        "         c='red', ls='dashed')\n",
        "plt.plot(train_acc_l1reg, label='Train Accuracy L1 regularized',\n",
        "         c='red', ls='solid')\n",
        "plt.axhline(y=max(val_acc_l1reg), c='green', ls='dashed')\n",
        "plt.title('L1 regularized model')\n",
        "plt.ylabel('Accuracy (%)')\n",
        "plt.xlabel('Epoch')\n",
        "plt.legend()\n",
        "plt.show()\n",
        "print(f\"Maximum Validation Accuracy Reached: {max(val_acc_l1reg)}\")"
      ]
    },
    {
      "cell_type": "markdown",
      "metadata": {
        "execution": {},
        "id": "6ezHi6u_dhMY"
      },
      "source": [
        "What value of `lambda1` hyperparameter worked for L1 Regularization?\n",
        "\n",
        "**Note:** that the $\\lambda$ in the equations is the `lambda1` in the code for clarity."
      ]
    },
    {
      "cell_type": "markdown",
      "metadata": {
        "execution": {},
        "id": "sClsmjnbdhMY"
      },
      "source": [
        "## Section 1.3: L2 / Ridge Regularization"
      ]
    },
    {
      "cell_type": "markdown",
      "metadata": {
        "execution": {},
        "id": "gx4ZLphvdhMY"
      },
      "source": [
        "L2 Regularization (or Ridge), also referred to as “Weight Decay”, is widely used. It works by adding a quadratic penalty term to the Cross-Entropy Loss Function $L$, which results in a new Loss Function $L_R$ given by:\n",
        "\n",
        "\\begin{equation}\n",
        "L_R = L + \\lambda \\sum \\left( w^{(r)}_{ij} \\right)^2\n",
        "\\end{equation}\n",
        "\n",
        "where, again, $r$ superscript denotes the layer, and $ij$ the specific weight in that layer.\n",
        "\n",
        "To get further insight into L2 Regularization, we investigate its effect on the Gradient Descent based update equations for the weight and bias parameters. Taking the derivative on both sides of the above equation, we obtain\n",
        "\n",
        "\\begin{equation}\n",
        "\\frac{\\partial L_R}{\\partial w^{(r)}_{ij}}=\\frac{\\partial L}{\\partial w^{(r)}_{ij}} + 2\\lambda w^{(r)}_{ij}\n",
        "\\end{equation}\n",
        "\n",
        "Thus the weight update rule becomes:\n",
        "\n",
        "\\begin{equation}\n",
        "w^{(r)}_{ij}←w^{(r)}_{ij}−η\\frac{\\partial L}{\\partial w^{(r)}_{ij}}−2 \\eta \\lambda w^{(r)}_{ij}=(1−2 \\eta \\lambda)w^{(r)}_{ij} − \\eta \\frac{\\partial L}{\\partial w^{(r)}_{ij}}\n",
        "\\end{equation}\n",
        "\n",
        "where $\\eta$ is the learning rate."
      ]
    },
    {
      "cell_type": "markdown",
      "metadata": {
        "execution": {},
        "id": "QrazvnALdhMY"
      },
      "source": [
        "### Coding Exercise 1.2: L2 Regularization\n",
        "\n",
        "Write a function that calculates the L2 norm of all the tensors of a PyTorch model. (What did we call this before?)"
      ]
    },
    {
      "cell_type": "code",
      "execution_count": null,
      "metadata": {
        "execution": {},
        "id": "_5wgjANedhMY"
      },
      "outputs": [],
      "source": [
        "def l2_reg(model):\n",
        "  \"\"\"\n",
        "  This function calculates the l2 norm of the all the tensors in the model\n",
        "\n",
        "  Args:\n",
        "    model: nn.module\n",
        "      Neural network instance\n",
        "\n",
        "  Returns:\n",
        "    l2: float\n",
        "      L2 norm of the all the tensors in the model\n",
        "  \"\"\"\n",
        "\n",
        "  l2 = 0.0\n",
        "  ####################################################################\n",
        "  # Fill in all missing code below (...),\n",
        "  # then remove or comment the line below to test your function\n",
        "  raise NotImplementedError(\"Complete the l2_reg function\")\n",
        "  ####################################################################\n",
        "  for param in model.parameters():\n",
        "    l2 += torch.sum(...)\n",
        "\n",
        "  return l2\n",
        "  \n",
        "set_seed(SEED)\n",
        "## uncomment to test\n",
        "# net = nn.Linear(20, 20)\n",
        "# print(f\"L2 norm of the model: {l2_reg(net)}\")"
      ]
    },
    {
      "cell_type": "markdown",
      "metadata": {
        "execution": {},
        "id": "0M-x_KaxdhMY"
      },
      "source": [
        "[*Click for solution*](https://github.com/NeuromatchAcademy/course-content-dl/tree/main//tutorials/W2D1_Regularization/solutions/W2D1_Tutorial2_Solution_e6916872.py)\n",
        "\n"
      ]
    },
    {
      "cell_type": "markdown",
      "metadata": {
        "execution": {},
        "id": "xD173iPBdhMZ"
      },
      "source": [
        "```\n",
        "Random seed 2021 has been set.\n",
        "L2 norm of the model: 7.328375816345215\n",
        "```"
      ]
    },
    {
      "cell_type": "markdown",
      "metadata": {
        "execution": {},
        "id": "RMojWmu4dhMZ"
      },
      "source": [
        "Now we'll train a classifier that uses L2 regularization. Tune the hyperparameter `lambda2` such that the validation accuracy is higher than that of the unregularized model."
      ]
    },
    {
      "cell_type": "code",
      "execution_count": null,
      "metadata": {
        "execution": {},
        "id": "o30rduRrdhMZ"
      },
      "outputs": [],
      "source": [
        "# Set the arguments\n",
        "args2 = {\n",
        "    'test_batch_size': 1000,\n",
        "    'epochs': 150,\n",
        "    'lr': 5e-3,\n",
        "    'momentum': 0.99,\n",
        "    'device': DEVICE,\n",
        "    'lambda2': 0.001  # <<<<<<<< Tune the hyperparameter lambda2\n",
        "}\n",
        "\n",
        "# Initialize the model\n",
        "set_seed(seed=SEED)\n",
        "model = AnimalNet()\n",
        "\n",
        "# Train the model\n",
        "val_acc_l2reg, train_acc_l2reg, param_norm_l2reg, model = main(args2,\n",
        "                                                               model,\n",
        "                                                               train_loader,\n",
        "                                                               val_loader,\n",
        "                                                               img_test_dataset,\n",
        "                                                               reg_function2=l2_reg)\n",
        "\n",
        "## Train and Test accuracy plot\n",
        "plt.figure()\n",
        "plt.plot(val_acc_l2reg, label='Val Accuracy L2 regularized',\n",
        "         c='red', ls='dashed')\n",
        "plt.plot(train_acc_l2reg, label='Train Accuracy L2 regularized',\n",
        "         c='red', ls='solid')\n",
        "plt.axhline(y=max(val_acc_l2reg), c='green', ls='dashed')\n",
        "plt.title('L2 Regularized Model')\n",
        "plt.ylabel('Accuracy (%)')\n",
        "plt.xlabel('Epoch')\n",
        "plt.legend()\n",
        "plt.show()\n",
        "print(f\"Maximum Validation Accuracy reached: {max(val_acc_l2reg)}\")"
      ]
    },
    {
      "cell_type": "markdown",
      "metadata": {
        "execution": {},
        "id": "KsaaUNZVdhMc"
      },
      "source": [
        "What value `lambda2` worked for L2 Regularization?\n",
        "\n",
        "**Note:** that the $\\lambda$ in the equations is the `lambda2` in the code for clarity."
      ]
    },
    {
      "cell_type": "markdown",
      "metadata": {
        "execution": {},
        "id": "_o_rZ0K9dhMc"
      },
      "source": [
        "Now, let's run a model with both L1 and L2 regularization terms."
      ]
    },
    {
      "cell_type": "code",
      "execution_count": null,
      "metadata": {
        "cellView": "form",
        "execution": {},
        "id": "OGd5BWwldhMc"
      },
      "outputs": [],
      "source": [
        "# @markdown Visualize all of them together (Run Me!)\n",
        "\n",
        "# @markdown `lambda1=0.001` and `lambda2=0.001`\n",
        "\n",
        "args3 = {\n",
        "    'test_batch_size': 1000,\n",
        "    'epochs': 150,\n",
        "    'lr': 5e-3,\n",
        "    'momentum': 0.99,\n",
        "    'device': DEVICE,\n",
        "    'lambda1': 0.001,\n",
        "    'lambda2': 0.001\n",
        "}\n",
        "\n",
        "# Initialize the model\n",
        "set_seed(seed=SEED)\n",
        "model = AnimalNet()\n",
        "val_acc_l1l2reg, train_acc_l1l2reg, param_norm_l1l2reg, _ = main(args3,\n",
        "                                                                 model,\n",
        "                                                                 train_loader,\n",
        "                                                                 val_loader,\n",
        "                                                                 img_test_dataset,\n",
        "                                                                 reg_function1=l1_reg,\n",
        "                                                                 reg_function2=l2_reg)\n",
        "\n",
        "plt.figure()\n",
        "\n",
        "plt.plot(val_acc_l2reg, c='red', ls='dashed')\n",
        "plt.plot(train_acc_l2reg,\n",
        "         label=f\"L2 regularized, $\\lambda_2$={args2['lambda2']}\",\n",
        "         c='red', ls='solid')\n",
        "plt.axhline(y=max(val_acc_l2reg), c='red', ls='dashed')\n",
        "\n",
        "plt.plot(val_acc_l1reg, c='green', ls = 'dashed')\n",
        "plt.plot(train_acc_l1reg,\n",
        "         label=f\"L1 regularized, $\\lambda_1$={args1['lambda1']}\",\n",
        "         c='green', ls='solid')\n",
        "plt.axhline(y=max(val_acc_l1reg), c='green', ls='dashed')\n",
        "\n",
        "plt.plot(val_acc_unreg, c='blue', ls = 'dashed')\n",
        "plt.plot(train_acc_unreg,\n",
        "         label='Unregularized', c='blue', ls='solid')\n",
        "plt.axhline(y=max(val_acc_unreg), c='blue', ls='dashed')\n",
        "\n",
        "plt.plot(val_acc_l1l2reg, c='orange', ls='dashed')\n",
        "plt.plot(train_acc_l1l2reg,\n",
        "         label=f\"L1+L2 regularized, $\\lambda_1$={args3['lambda1']}, $\\lambda_2$={args3['lambda2']}\",\n",
        "         c='orange', ls='solid')\n",
        "plt.axhline(y=max(val_acc_l1l2reg), c='orange', ls = 'dashed')\n",
        "\n",
        "plt.xlabel('Epoch')\n",
        "plt.ylabel('Accuracy (%)')\n",
        "plt.legend()\n",
        "plt.show()"
      ]
    },
    {
      "cell_type": "markdown",
      "metadata": {
        "execution": {},
        "id": "vVum6nHcdhMc"
      },
      "source": [
        "Now, let's visualize what these different regularizations do to the model's parameters. We observe the effect by computing the size (technically, the Frobenius norm)."
      ]
    },
    {
      "cell_type": "code",
      "execution_count": null,
      "metadata": {
        "execution": {},
        "id": "sF7sM_YAdhMd"
      },
      "outputs": [],
      "source": [
        "x =  param_norm_unreg[0]\n",
        "print(x)"
      ]
    },
    {
      "cell_type": "code",
      "execution_count": null,
      "metadata": {
        "cellView": "form",
        "execution": {},
        "id": "0xRpRB0ndhMd"
      },
      "outputs": [],
      "source": [
        "# @markdown #### Visualize Norm of the Models (Train Me!)\n",
        "plt.figure()\n",
        "plt.plot([i.cpu().numpy() for i in param_norm_unreg],\n",
        "         label='Unregularized', c='blue')\n",
        "plt.plot([i.cpu().numpy() for i in param_norm_l1reg],\n",
        "         label='L1 Regularized', c='green')\n",
        "plt.plot([i.cpu().numpy() for i in param_norm_l2reg],\n",
        "         label='L2 Regularized', c='red')\n",
        "plt.plot([i.cpu().numpy() for i in param_norm_l1l2reg],\n",
        "         label='L1+L2 Regularized', c='orange')\n",
        "plt.xlabel('Epoch')\n",
        "plt.ylabel('Parameter Norms')\n",
        "plt.legend()\n",
        "plt.show()"
      ]
    },
    {
      "cell_type": "markdown",
      "metadata": {
        "execution": {},
        "id": "zPngqIwwdhMd"
      },
      "source": [
        "In the above plots, you should have seen that the validation accuracies fluctuate even after the model achieves 100% train accuracy. Thus, the model is still trying to learn something. Why would this be the case?"
      ]
    },
    {
      "cell_type": "markdown",
      "metadata": {
        "execution": {},
        "id": "hY3OgnvudhMd"
      },
      "source": [
        "---\n",
        "# Section 2: Dropout\n",
        "\n"
      ]
    },
    {
      "cell_type": "markdown",
      "metadata": {
        "execution": {},
        "id": "ThiYXdLWdhMd"
      },
      "source": [
        "With Dropout, we literally drop out (zero out) some neurons during training. Throughout the training, the standard dropout zeros out some fraction (usually 50%) of the nodes in each layer, and on each iteration, before calculating the subsequent layer. Randomly selecting different subsets to drop out introduces noise into the process and reduces overfitting.\n",
        "\n",
        "<br>\n",
        "\n",
        "<center><img src=\"https://d2l.ai/_images/dropout2.svg\" alt=\"Dropout\" width=\"600\"/></center>\n",
        "\n",
        "<br>\n"
      ]
    },
    {
      "cell_type": "markdown",
      "metadata": {
        "execution": {},
        "id": "CIir-0k1dhMe"
      },
      "source": [
        "Now let's revisit the toy dataset we generated above to visualize how the Dropout stabilizes training on a noisy dataset. We will slightly modify the architecture we used above to add dropout layers."
      ]
    },
    {
      "cell_type": "code",
      "execution_count": null,
      "metadata": {
        "execution": {},
        "id": "ftep4EjcdhMe"
      },
      "outputs": [],
      "source": [
        "class NetDropout(nn.Module):\n",
        "  \"\"\"\n",
        "  Network Class - 2D with the following structure:\n",
        "  nn.Linear(1, 300) + leaky_relu(self.dropout1(self.fc1(x))) # First fully connected layer with 0.4 dropout\n",
        "  nn.Linear(300, 500) + leaky_relu(self.dropout2(self.fc2(x))) # Second fully connected layer with 0.2 dropout\n",
        "  nn.Linear(500, 1) # Final fully connected layer\n",
        "  \"\"\"\n",
        "\n",
        "  def __init__(self):\n",
        "    \"\"\"\n",
        "    Initialize parameters of NetDropout\n",
        "\n",
        "    Args:\n",
        "      None\n",
        "\n",
        "    Returns:\n",
        "      Nothing\n",
        "    \"\"\"\n",
        "    super(NetDropout, self).__init__()\n",
        "\n",
        "    self.fc1 = nn.Linear(1, 300)\n",
        "    self.fc2 = nn.Linear(300, 500)\n",
        "    self.fc3 = nn.Linear(500, 1)\n",
        "    # We add two dropout layers\n",
        "    self.dropout1 = nn.Dropout(0.4)\n",
        "    self.dropout2 = nn.Dropout(0.2)\n",
        "\n",
        "  def forward(self, x):\n",
        "    \"\"\"\n",
        "    Forward pass of NetDropout\n",
        "\n",
        "    Args:\n",
        "      x: torch.tensor\n",
        "        Input features\n",
        "\n",
        "    Returns:\n",
        "      output: torch.tensor\n",
        "        Output/Predictions\n",
        "    \"\"\"\n",
        "    x = F.leaky_relu(self.dropout1(self.fc1(x)))\n",
        "    x = F.leaky_relu(self.dropout2(self.fc2(x)))\n",
        "    output = self.fc3(x)\n",
        "    return output"
      ]
    },
    {
      "cell_type": "code",
      "execution_count": null,
      "metadata": {
        "cellView": "form",
        "execution": {},
        "id": "W9n3rFwLdhMe"
      },
      "outputs": [],
      "source": [
        "# @markdown #### Run to train the default network\n",
        "set_seed(seed=SEED)\n",
        "\n",
        "# Creating train data\n",
        "X = torch.rand((10, 1))\n",
        "X.sort(dim = 0)\n",
        "Y = 2*X + 2*torch.empty((X.shape[0], 1)).normal_(mean=0, std=1)  # adding small error in the data\n",
        "\n",
        "X = X.unsqueeze_(1)\n",
        "Y = Y.unsqueeze_(1)\n",
        "\n",
        "# Creating test dataset\n",
        "X_test = torch.linspace(0, 1, 40)\n",
        "X_test = X_test.reshape((40, 1, 1))\n",
        "\n",
        "# Train the network on toy dataset\n",
        "model = Net()\n",
        "criterion = nn.MSELoss()\n",
        "optimizer = optim.Adam(model.parameters(), lr=1e-4)\n",
        "max_epochs = 10000\n",
        "iters = 0\n",
        "\n",
        "running_predictions = np.empty((40, (int)(max_epochs/500 + 1)))\n",
        "\n",
        "train_loss = []\n",
        "test_loss = []\n",
        "model_norm = []\n",
        "\n",
        "for epoch in tqdm(range(max_epochs)):\n",
        "\n",
        "  # Training\n",
        "  model_norm.append(calculate_frobenius_norm(model))\n",
        "  model.train()\n",
        "  optimizer.zero_grad()\n",
        "  predictions = model(X)\n",
        "  loss = criterion(predictions,Y)\n",
        "  loss.backward()\n",
        "  optimizer.step()\n",
        "\n",
        "  train_loss.append(loss.data)\n",
        "  model.eval()\n",
        "  Y_test = model(X_test)\n",
        "  loss = criterion(Y_test, 2*X_test)\n",
        "  test_loss.append(loss.data)\n",
        "\n",
        "  if (epoch % 500 == 0 or epoch == max_epochs - 1):\n",
        "    running_predictions[:, iters] = Y_test[:, 0, 0].detach().numpy()\n",
        "    iters += 1"
      ]
    },
    {
      "cell_type": "code",
      "execution_count": null,
      "metadata": {
        "execution": {},
        "id": "eb0oUsu0dhMe"
      },
      "outputs": [],
      "source": [
        "# Train the network on toy dataset\n",
        "\n",
        "# Initialize the model\n",
        "set_seed(seed=SEED)\n",
        "model = NetDropout()\n",
        "criterion = nn.MSELoss()\n",
        "optimizer = optim.Adam(model.parameters(), lr=1e-4)\n",
        "max_epochs = 10000\n",
        "iters = 0\n",
        "\n",
        "running_predictions_dp = np.empty((40, (int)(max_epochs / 500)))\n",
        "\n",
        "train_loss_dp = []\n",
        "test_loss_dp = []\n",
        "model_norm_dp = []\n",
        "\n",
        "for epoch in tqdm(range(max_epochs)):\n",
        "\n",
        "  # Training\n",
        "  model_norm_dp.append(calculate_frobenius_norm(model))\n",
        "  model.train()\n",
        "  optimizer.zero_grad()\n",
        "  predictions = model(X)\n",
        "  loss = criterion(predictions, Y)\n",
        "  loss.backward()\n",
        "  optimizer.step()\n",
        "\n",
        "  train_loss_dp.append(loss.data)\n",
        "  model.eval()\n",
        "  Y_test = model(X_test)\n",
        "  loss = criterion(Y_test, 2*X_test)\n",
        "  test_loss_dp.append(loss.data)\n",
        "\n",
        "  if (epoch % 500 == 0 or epoch == max_epochs):\n",
        "    running_predictions_dp[:, iters] = Y_test[:, 0, 0].detach().numpy()\n",
        "    iters += 1"
      ]
    },
    {
      "cell_type": "markdown",
      "metadata": {
        "execution": {},
        "id": "oKQyyp8adhMe"
      },
      "source": [
        "Now that we have finished the training, let's see how the model has evolved over the training process."
      ]
    },
    {
      "cell_type": "code",
      "execution_count": null,
      "metadata": {
        "cellView": "form",
        "execution": {},
        "id": "NfDggmTddhMe"
      },
      "outputs": [],
      "source": [
        "# @markdown Animation! (Run Me!)\n",
        "set_seed(seed=SEED)\n",
        "\n",
        "fig = plt.figure(figsize=(8, 6))\n",
        "ax = plt.axes()\n",
        "\n",
        "def frame(i):\n",
        "  ax.clear()\n",
        "  ax.scatter(X[:, 0, :].numpy(), Y[:, 0, :].numpy())\n",
        "  plot = ax.plot(X_test[:, 0, :].detach().numpy(),\n",
        "                 running_predictions_dp[:, i])\n",
        "  title = f\"Epoch: {i*500}\"\n",
        "  plt.title(title)\n",
        "  ax.set_xlabel(\"X axis\")\n",
        "  ax.set_ylabel(\"Y axis\")\n",
        "  return plot\n",
        "\n",
        "\n",
        "anim = animation.FuncAnimation(fig, frame, frames=range(20),\n",
        "                               blit=False, repeat=False,\n",
        "                               repeat_delay=10000)\n",
        "html_anim = HTML(anim.to_html5_video());\n",
        "plt.close()\n",
        "display(html_anim)"
      ]
    },
    {
      "cell_type": "code",
      "execution_count": null,
      "metadata": {
        "cellView": "form",
        "execution": {},
        "id": "eVlVBfmgdhMf"
      },
      "outputs": [],
      "source": [
        "# @markdown Plot the train and test losses with epoch\n",
        "\n",
        "plt.figure()\n",
        "plt.plot(test_loss_dp, label='Test loss dropout', c='blue', ls='dashed')\n",
        "plt.plot(test_loss, label='Test loss', c='red', ls='dashed')\n",
        "plt.ylabel('Loss')\n",
        "plt.xlabel('Epochs')\n",
        "plt.title('Dropout vs Without dropout')\n",
        "plt.legend()\n",
        "plt.show()"
      ]
    },
    {
      "cell_type": "code",
      "execution_count": null,
      "metadata": {
        "cellView": "form",
        "execution": {},
        "id": "7kZJYyx9dhMf"
      },
      "outputs": [],
      "source": [
        "# @markdown Plot the train and test losses with epoch\n",
        "\n",
        "plt.figure()\n",
        "plt.plot(train_loss_dp, label='Train loss dropout', c='blue', ls='dashed')\n",
        "plt.plot(train_loss, label='Train loss', c='red', ls='dashed')\n",
        "plt.ylabel('Loss')\n",
        "plt.xlabel('Epochs')\n",
        "plt.title('Dropout vs Without dropout')\n",
        "plt.legend()\n",
        "plt.show()"
      ]
    },
    {
      "cell_type": "code",
      "execution_count": null,
      "metadata": {
        "cellView": "form",
        "execution": {},
        "id": "7jrqDirRdhMf"
      },
      "outputs": [],
      "source": [
        "# @markdown Plot model weights with epoch\n",
        "plt.figure()\n",
        "plt.plot(model_norm_dp, label='Dropout')\n",
        "plt.plot(model_norm, label='No dropout')\n",
        "plt.ylabel('Norm of the model')\n",
        "plt.xlabel('Epochs')\n",
        "plt.legend()\n",
        "plt.title('Size of the model vs Epochs')\n",
        "plt.show()"
      ]
    },
    {
      "cell_type": "markdown",
      "metadata": {
        "execution": {},
        "id": "PywdPmuadhMf"
      },
      "source": [
        "Do you think this (with dropout) performed better than the initial model (without dropout)?"
      ]
    },
    {
      "cell_type": "markdown",
      "metadata": {
        "execution": {},
        "id": "y0gp8VsLdhMf"
      },
      "source": [
        "[*Click for solution*](https://github.com/NeuromatchAcademy/course-content-dl/tree/main//tutorials/W2D1_Regularization/solutions/W2D1_Tutorial2_Solution_35dd0628.py)\n",
        "\n"
      ]
    },
    {
      "cell_type": "markdown",
      "metadata": {
        "execution": {},
        "id": "phxGrbrHdhMf"
      },
      "source": [
        "## Section 2.1: Dropout Implementation Caveats"
      ]
    },
    {
      "cell_type": "markdown",
      "metadata": {
        "execution": {},
        "id": "0zHBrOAAdhMf"
      },
      "source": [
        "* Dropout is used only during training. However, the complete model weights are used during testing, so it is vital to use the `model.eval()` method before testing the model. \n",
        "\n",
        "* Dropout reduces the capacity of the model during training, and hence as a general practice, wider networks are used when using dropout. If you are using a dropout with a random probability of 0.5, you might want to double the number of hidden neurons in that layer."
      ]
    },
    {
      "cell_type": "markdown",
      "metadata": {
        "execution": {},
        "id": "FRHhciT_dhMf"
      },
      "source": [
        "Now, let's see how dropout fares on the “Animal Faces” dataset. We first modify the existing model to include dropout and then train it."
      ]
    },
    {
      "cell_type": "code",
      "execution_count": null,
      "metadata": {
        "execution": {},
        "id": "DhdEWQHVdhMf"
      },
      "outputs": [],
      "source": [
        "class AnimalNetDropout(nn.Module):\n",
        "  \"\"\"\n",
        "  Network Class - Animal Faces with following structure\n",
        "  nn.Linear(3*32*32, 248) + leaky_relu(self.dropout1(self.fc1(x))) # First fully connected layer with 0.5 dropout\n",
        "  nn.Linear(248, 210) + leaky_relu(self.dropout2(self.fc2(x))) # Second fully connected layer with 0.3 dropout\n",
        "  nn.Linear(210, 3) # Final fully connected layer\n",
        "  \"\"\"\n",
        "\n",
        "  def __init__(self):\n",
        "    \"\"\"\n",
        "    Initialize parameters of AnimalNetDropout\n",
        "\n",
        "    Args:\n",
        "      None\n",
        "\n",
        "    Returns:\n",
        "      Nothing\n",
        "    \"\"\"\n",
        "    super(AnimalNetDropout, self).__init__()\n",
        "    self.fc1 = nn.Linear(3*32*32, 248)\n",
        "    self.fc2 = nn.Linear(248, 210)\n",
        "    self.fc3 = nn.Linear(210, 3)\n",
        "    self.dropout1 = nn.Dropout(p=0.5)\n",
        "    self.dropout2 = nn.Dropout(p=0.3)\n",
        "\n",
        "  def forward(self, x):\n",
        "    \"\"\"\n",
        "    Forward pass of AnimalNetDropout\n",
        "\n",
        "    Args:\n",
        "      x: torch.tensor\n",
        "        Input features\n",
        "\n",
        "    Returns:\n",
        "      x: torch.tensor\n",
        "        Output/Predictions\n",
        "    \"\"\"\n",
        "    x = x.view(x.shape[0], -1)\n",
        "    x = F.leaky_relu(self.dropout1(self.fc1(x)))\n",
        "    x = F.leaky_relu(self.dropout2(self.fc2(x)))\n",
        "    x = self.fc3(x)\n",
        "    output = F.log_softmax(x, dim=1)\n",
        "    return output"
      ]
    },
    {
      "cell_type": "code",
      "execution_count": null,
      "metadata": {
        "execution": {},
        "id": "qW69jTBvdhMf"
      },
      "outputs": [],
      "source": [
        "# Set the arguments\n",
        "args = {\n",
        "    'test_batch_size': 1000,\n",
        "    'epochs': 200,\n",
        "    'lr': 5e-3,\n",
        "    'batch_size': 32,\n",
        "    'momentum': 0.9,\n",
        "    'device': DEVICE,\n",
        "    'log_interval': 100\n",
        "}\n",
        "\n",
        "# Initialize the model\n",
        "set_seed(seed=SEED)\n",
        "model = AnimalNetDropout()\n",
        "\n",
        "# Train the model with Dropout\n",
        "val_acc_dropout, train_acc_dropout, _, model_dp = main(args,\n",
        "                                                       model,\n",
        "                                                       train_loader,\n",
        "                                                       val_loader,\n",
        "                                                       img_test_dataset)\n",
        "\n",
        "# Initialize the BigAnimalNet model\n",
        "set_seed(seed=SEED)\n",
        "model = BigAnimalNet()\n",
        "\n",
        "# Train the model\n",
        "val_acc_big, train_acc_big, _, model_big = main(args,\n",
        "                                                model,\n",
        "                                                train_loader,\n",
        "                                                val_loader,\n",
        "                                                img_test_dataset)\n",
        "\n",
        "\n",
        "# Train and Test accuracy plot\n",
        "plt.figure()\n",
        "plt.plot(val_acc_big, label='Val - Big', c='blue', ls='dashed')\n",
        "plt.plot(train_acc_big, label='Train - Big', c='blue', ls='solid')\n",
        "plt.plot(val_acc_dropout, label='Val - DP', c='magenta', ls='dashed')\n",
        "plt.plot(train_acc_dropout, label='Train - DP', c='magenta', ls='solid')\n",
        "plt.title('Dropout')\n",
        "plt.ylabel('Accuracy (%)')\n",
        "plt.xlabel('Epoch')\n",
        "plt.legend()\n",
        "plt.show()"
      ]
    },
    {
      "cell_type": "markdown",
      "metadata": {
        "execution": {},
        "id": "BBeLn5vRdhMg"
      },
      "source": [
        "When do you think dropouts can perform bad and do you think their placement within a model matters?\n",
        "\n",
        "Dropout is an effective regularization technique but may hurt model performance\n",
        "if the model does not overfit i.e., low model capacity.\n",
        "\n",
        "\n",
        "Placement of dropout within the model matters.\n",
        "For instance,\n",
        "Dropout is generally not applied immediately before the last layer,\n",
        "because the network has no ability to \"correct\" errors induced by\n",
        "dropout before the classification happens.\n",
        "Additionally, if the model is not trained until convergence,\n",
        "dropout may give worse results. Usually dropout hurts performance at the start\n",
        "of training, but results in the final \"converged\" error being lower."
      ]
    },
    {
      "cell_type": "markdown",
      "metadata": {
        "execution": {},
        "id": "NtYg6zd7dhMg"
      },
      "source": [
        "---\n",
        "# Section 3: Data Augmentation\n"
      ]
    },
    {
      "cell_type": "markdown",
      "metadata": {
        "execution": {},
        "id": "A3UhCQ2HdhMg"
      },
      "source": [
        "Data augmentation is often used to increase the number of training samples. Now we will explore the effects of data augmentation on regularization. Here regularization is achieved by adding noise into training data after every epoch.\n",
        "\n",
        "PyTorch's torchvision module provides a few built-in data augmentation techniques, which we can use on image datasets. Some of the techniques we most frequently use are:\n",
        "\n",
        "* Random Crop\n",
        "* Random Rotate\n",
        "* Vertical Flip\n",
        "* Horizontal Flip"
      ]
    },
    {
      "cell_type": "code",
      "execution_count": null,
      "metadata": {
        "cellView": "form",
        "execution": {},
        "id": "eduRiQNDdhMg"
      },
      "outputs": [],
      "source": [
        "# @markdown ####  Data Loader without Data Augmentation\n",
        "\n",
        "# For reproducibility\n",
        "g_seed = torch.Generator()\n",
        "g_seed.manual_seed(SEED)\n",
        "\n",
        "\n",
        "train_transform = transforms.Compose([\n",
        "     transforms.ToTensor(),\n",
        "     transforms.Normalize((0.5, 0.5, 0.5), (0.5, 0.5, 0.5))\n",
        "     ])\n",
        "data_path = pathlib.Path('.')/'afhq' # Using pathlib to be compatible with all OS's\n",
        "img_dataset = ImageFolder(data_path/'train', transform=train_transform)\n",
        "\n",
        "# Splitting dataset\n",
        "img_train_data, img_val_data,_ = torch.utils.data.random_split(img_dataset, [250,100,14280])\n",
        "\n",
        "# Creating train_loader and Val_loader\n",
        "train_loader = torch.utils.data.DataLoader(img_train_data,\n",
        "                                           batch_size=batch_size,\n",
        "                                           num_workers=2,\n",
        "                                           worker_init_fn=seed_worker,\n",
        "                                           generator=g_seed)\n",
        "val_loader = torch.utils.data.DataLoader(img_val_data,\n",
        "                                         batch_size=1000,\n",
        "                                         num_workers=2,\n",
        "                                         worker_init_fn=seed_worker,\n",
        "                                         generator=g_seed)"
      ]
    },
    {
      "cell_type": "markdown",
      "metadata": {
        "execution": {},
        "id": "ElmpKL1idhMg"
      },
      "source": [
        "Define a DataLoader using `torchvision.transforms`, which randomly augments the data for us. For more info, see [here](https://pytorch.org/vision/stable/transforms.html)."
      ]
    },
    {
      "cell_type": "code",
      "execution_count": null,
      "metadata": {
        "execution": {},
        "id": "l_TZgK1xdhMg"
      },
      "outputs": [],
      "source": [
        "# Data Augmentation using transforms\n",
        "new_transforms = transforms.Compose([\n",
        "                                     transforms.RandomHorizontalFlip(p=0.1),\n",
        "                                     transforms.RandomVerticalFlip(p=0.1),\n",
        "                                     transforms.ToTensor(),\n",
        "                                     transforms.Normalize((0.5, 0.5, 0.5),\n",
        "                                                          (0.5, 0.5, 0.5))\n",
        "                                     ])\n",
        "\n",
        "data_path = pathlib.Path('.')/'afhq'  # Using pathlib to be compatible with all OS's\n",
        "img_dataset = ImageFolder(data_path/'train', transform=new_transforms)\n",
        "# Splitting dataset\n",
        "new_train_data, _,_ = torch.utils.data.random_split(img_dataset,\n",
        "                                                    [250, 100, 14280])\n",
        "\n",
        "# For reproducibility\n",
        "g_seed = torch.Generator()\n",
        "g_seed.manual_seed(SEED)\n",
        "\n",
        "# Creating train_loader and Val_loader\n",
        "new_train_loader = torch.utils.data.DataLoader(new_train_data,\n",
        "                                               batch_size=batch_size,\n",
        "                                               worker_init_fn=seed_worker,\n",
        "                                               generator=g_seed)"
      ]
    },
    {
      "cell_type": "code",
      "execution_count": null,
      "metadata": {
        "execution": {},
        "id": "9oiy-8nXdhMh",
        "colab": {
          "base_uri": "https://localhost:8080/",
          "height": 529,
          "referenced_widgets": [
            "cbb4123b649045de9f2c28d99b267101",
            "3d6b575b71e24a8d9e31b993843ed649",
            "93a79524f7ed44b09a2fa9f1e2f88188",
            "8298a8511a3c46538a9bd13c579c99d9",
            "02c214fb75f64f74821dc9bb20c2f35c",
            "96674df87c2b4d269443ccc35d4edd4d",
            "b50813f7e1ee4272937ecc568821da26",
            "a1157f0004414148b271e89fc6c07409",
            "ceb272e4efd249deb03c326e7fd8dd65",
            "112472d7be2e4c8996d4d7ebf52876c9",
            "0c9a351c74f84f71a4ea558208dce4cd",
            "68abf9eac859481baa669019bc7a8ab9",
            "c5783e81e3744b2099dd5b33168e40bd",
            "8ef2d5ce17bf4ec79d709f61c7d41761",
            "6d8ed8930bfa47008836ef36a771b2dc",
            "1112c3375bc4495c963ecd472b84af30",
            "745cda6e5d934c2ea36f12c30b03a9e7",
            "933953a6daa7490e9ecd341fdffe0532",
            "c91ab8e8f44c4334bd545efb6528ccf1",
            "d5dd85d1e3ca48bdba819efa3732ee9a",
            "ad43c23023b84a739af055b6ab1c4f09",
            "5b60226443fc43ae9ed7e5a62a7429fc"
          ]
        },
        "outputId": "73525d01-835d-4326-f7be-f9dcc98c1ed0"
      },
      "outputs": [
        {
          "output_type": "stream",
          "name": "stdout",
          "text": [
            "Random seed 2021 has been set.\n"
          ]
        },
        {
          "output_type": "display_data",
          "data": {
            "text/plain": [
              "  0%|          | 0/250 [00:00<?, ?it/s]"
            ],
            "application/vnd.jupyter.widget-view+json": {
              "version_major": 2,
              "version_minor": 0,
              "model_id": "cbb4123b649045de9f2c28d99b267101"
            }
          },
          "metadata": {}
        },
        {
          "output_type": "stream",
          "name": "stdout",
          "text": [
            "Random seed 2021 has been set.\n"
          ]
        },
        {
          "output_type": "display_data",
          "data": {
            "text/plain": [
              "  0%|          | 0/250 [00:00<?, ?it/s]"
            ],
            "application/vnd.jupyter.widget-view+json": {
              "version_major": 2,
              "version_minor": 0,
              "model_id": "68abf9eac859481baa669019bc7a8ab9"
            }
          },
          "metadata": {}
        },
        {
          "output_type": "display_data",
          "data": {
            "text/plain": [
              "<Figure size 576x432 with 1 Axes>"
            ],
            "image/png": "[encoded data removed]"
          },
          "metadata": {
            "image/png": {
              "width": 558,
              "height": 413
            },
            "needs_background": "light"
          }
        }
      ],
      "source": [
        "# Set the arguments\n",
        "args = {\n",
        "    'epochs': 250,\n",
        "    'lr': 1e-3,\n",
        "    'momentum': 0.99,\n",
        "    'device': DEVICE,\n",
        "}\n",
        "\n",
        "# Initialize the model\n",
        "set_seed(seed=SEED)\n",
        "model_aug = AnimalNet()\n",
        "\n",
        "# Train the model\n",
        "val_acc_dataaug, train_acc_dataaug, param_norm_dataaug, _ = main(args,\n",
        "                                                                 model_aug,\n",
        "                                                                 new_train_loader,\n",
        "                                                                 val_loader,\n",
        "                                                                 img_test_dataset)\n",
        "# Initialize the model\n",
        "set_seed(seed=SEED)\n",
        "model_pure = AnimalNet()\n",
        "\n",
        "val_acc_pure, train_acc_pure, param_norm_pure, _, = main(args,\n",
        "                                                         model_pure,\n",
        "                                                         train_loader,\n",
        "                                                         val_loader,\n",
        "                                                         img_test_dataset)\n",
        "\n",
        "\n",
        "# Train and Test accuracy plot\n",
        "plt.figure()\n",
        "plt.plot(val_acc_pure, label='Val Accuracy Pure',\n",
        "         c='red', ls='dashed')\n",
        "plt.plot(train_acc_pure, label='Train Accuracy Pure',\n",
        "         c='red', ls='solid')\n",
        "plt.plot(val_acc_dataaug, label='Val Accuracy data augment',\n",
        "         c='blue', ls='dashed')\n",
        "plt.plot(train_acc_dataaug, label='Train Accuracy data augment',\n",
        "         c='blue', ls='solid')\n",
        "plt.axhline(y=max(val_acc_pure), c='red', ls='dashed')\n",
        "plt.axhline(y=max(val_acc_dataaug), c='blue', ls='dashed')\n",
        "plt.title('Data Augmentation')\n",
        "plt.ylabel('Accuracy (%)')\n",
        "plt.xlabel('Epoch')\n",
        "plt.legend()\n",
        "plt.show()"
      ]
    },
    {
      "cell_type": "code",
      "execution_count": null,
      "metadata": {
        "execution": {},
        "id": "uDN60bGFdhMh",
        "colab": {
          "base_uri": "https://localhost:8080/",
          "height": 430
        },
        "outputId": "03edf3e4-35e9-4b84-9ae7-44002f0b84f4"
      },
      "outputs": [
        {
          "output_type": "display_data",
          "data": {
            "text/plain": [
              "<Figure size 576x432 with 1 Axes>"
            ],
            "image/png": "[encoded data removed]"
          },
          "metadata": {
            "image/png": {
              "width": 549,
              "height": 413
            },
            "needs_background": "light"
          }
        }
      ],
      "source": [
        "# Plot together: without and with augmentation\n",
        "plt.figure()\n",
        "plt.plot([i.cpu().numpy().item() for i in param_norm_pure],\n",
        "         c='red', label='Without Augmentation')\n",
        "plt.plot([i.cpu().numpy().item() for i in param_norm_dataaug],\n",
        "         c='blue', label='With Augmentation')\n",
        "plt.title('Norm of parameters as a function of training epoch')\n",
        "plt.xlabel('Epoch')\n",
        "plt.ylabel('Norm of model parameters')\n",
        "plt.legend()\n",
        "plt.show()"
      ]
    },
    {
      "cell_type": "markdown",
      "metadata": {
        "execution": {},
        "id": "-QQpQl3IdhMh"
      },
      "source": [
        "---\n",
        "# Section 4: Stochastic Gradient Descent\n"
      ]
    },
    {
      "cell_type": "markdown",
      "metadata": {
        "execution": {},
        "id": "JXQR2Wy8dhMh"
      },
      "source": [
        "## Section 4.1: Learning Rate\n",
        "\n",
        "In this section, we will see how the learning rate can act as a regularizer while training a neural network. In summary:\n",
        "\n",
        "* Smaller learning rates regularize less and slowly converge to deep minima. \n",
        "* Larger learning rates regularize more by missing local minima and converging to broader, flatter minima, which often generalize better.\n",
        "\n",
        "But beware, a very large learning rate may result in overshooting or finding a bad local minimum.\n",
        "\n",
        "In the block below, we will train the `AnimalNet` model with different learning rates and see how that affects the regularization."
      ]
    },
    {
      "cell_type": "code",
      "execution_count": null,
      "metadata": {
        "cellView": "form",
        "execution": {},
        "id": "m3QXoRTOdhMi"
      },
      "outputs": [],
      "source": [
        "# @markdown #### Generating Data Loaders\n",
        "\n",
        "# For reproducibility\n",
        "g_seed = torch.Generator()\n",
        "g_seed.manual_seed(SEED)\n",
        "\n",
        "batch_size = 128\n",
        "train_transform = transforms.Compose([\n",
        "     transforms.ToTensor(),\n",
        "     transforms.Normalize((0.5, 0.5, 0.5), (0.5, 0.5, 0.5))\n",
        "     ])\n",
        "\n",
        "data_path = pathlib.Path('.')/'afhq' # Using pathlib to be compatible with all OS's\n",
        "img_dataset = ImageFolder(data_path/'train', transform=train_transform)\n",
        "img_train_data, img_val_data, = torch.utils.data.random_split(img_dataset, [11700,2930])\n",
        "\n",
        "full_train_loader = torch.utils.data.DataLoader(img_train_data,\n",
        "                                                batch_size=batch_size,\n",
        "                                                num_workers=2,\n",
        "                                                worker_init_fn=seed_worker,\n",
        "                                                generator=g_seed)\n",
        "full_val_loader = torch.utils.data.DataLoader(img_val_data,\n",
        "                                              batch_size=1000,\n",
        "                                              num_workers=2,\n",
        "                                              worker_init_fn=seed_worker,\n",
        "                                              generator=g_seed)\n",
        "\n",
        "test_transform = transforms.Compose([\n",
        "     transforms.ToTensor(),\n",
        "     transforms.Normalize((0.5, 0.5, 0.5), (0.5, 0.5, 0.5))\n",
        "     ])\n",
        "img_test_dataset = ImageFolder(data_path/'val', transform=test_transform)\n",
        "# With dataloaders: img_test_loader = DataLoader(img_test_dataset, batch_size=batch_size,shuffle=False, num_workers=1)\n",
        "classes = ('cat', 'dog', 'wild')"
      ]
    },
    {
      "cell_type": "code",
      "execution_count": null,
      "metadata": {
        "execution": {},
        "id": "7nllCGtRdhMi"
      },
      "outputs": [],
      "source": [
        "# Set the arguments\n",
        "args = {\n",
        "    'test_batch_size': 1000,\n",
        "    'epochs': 20,\n",
        "    'batch_size': 32,\n",
        "    'momentum': 0.99,\n",
        "    'device': DEVICE\n",
        "}\n",
        "\n",
        "learning_rates = [5e-4, 1e-3, 5e-3]\n",
        "acc_dict = {}\n",
        "\n",
        "for i, lr in enumerate(learning_rates):\n",
        "  # Initialize the model\n",
        "  set_seed(seed=SEED)\n",
        "  model = AnimalNet()\n",
        "  # Learning rate\n",
        "  args['lr'] = lr\n",
        "  # Train the model\n",
        "  val_acc, train_acc, param_norm, _ = main(args,\n",
        "                                           model,\n",
        "                                           train_loader,\n",
        "                                           val_loader,\n",
        "                                           img_test_dataset)\n",
        "  # Store the outputs\n",
        "  acc_dict[f'val_{i}'] = val_acc\n",
        "  acc_dict[f'train_{i}'] = train_acc\n",
        "  acc_dict[f'param_norm_{i}'] = param_norm"
      ]
    },
    {
      "cell_type": "code",
      "execution_count": null,
      "metadata": {
        "cellView": "form",
        "execution": {},
        "id": "MQWaCApTdhMi"
      },
      "outputs": [],
      "source": [
        "# @markdown Plot Train and Validation accuracy (Run me)\n",
        "plt.figure()\n",
        "for i, lr in enumerate(learning_rates):\n",
        "  plt.plot(acc_dict[f'val_{i}'], linestyle='dashed',\n",
        "          label=f'lr={lr:0.1e} - validation')\n",
        "  plt.plot(acc_dict[f'train_{i}'], label=f'{lr:0.1e} - train')\n",
        "\n",
        "  print(f\"Maximum Test Accuracy obtained with lr={lr:0.1e}: {max(acc_dict[f'val_{i}'])}\")\n",
        "\n",
        "plt.title('Optimal Learning Rate')\n",
        "plt.ylabel('Accuracy (%)')\n",
        "plt.xlabel('Epoch')\n",
        "plt.legend()\n",
        "plt.show()"
      ]
    },
    {
      "cell_type": "markdown",
      "metadata": {
        "execution": {},
        "id": "Qd1wBHW7dhMi"
      },
      "source": [
        "---\n",
        "# Section 5: Hyperparameter Tuning\n",
        "\n"
      ]
    },
    {
      "cell_type": "markdown",
      "metadata": {
        "execution": {},
        "id": "A3xt4OVhdhMi"
      },
      "source": [
        "Hyperparameter tuning is often tricky and time-consuming, and it is a vital part of training any Deep Learning model to give good generalization. There are a few techniques that we can use to guide us during the search. \n",
        "\n",
        "* **Grid Search**: Try all possible combinations of hyperparameters\n",
        "* **Random Search**: Randomly try different combinations of hyperparameters\n",
        "* **Coordinate-wise Gradient Descent**: Start at one set of hyperparameters and try changing one at a time, accept any changes that reduce your validation error\n",
        "* **Bayesian Optimization / Auto ML**:  Start from a set of hyperparameters that have worked well on a similar problem, and then do some sort of local exploration (e.g., gradient descent) from there.\n",
        "\n",
        "There are many choices, like what range to explore over, which parameter to optimize first, etc. Some hyperparameters don’t matter much (people use a dropout of either 0.5 or 0.2, but not much else). Others can matter a lot more (e.g., size and depth of the neural net). The key is to see what worked on similar problems.\n",
        "\n",
        "One can automate the process of tuning the network architecture using the so called *Neural Architecture Search (NAS)*. NAS designs new architectures using a few building blocks (Linear, Convolutional, Convolution Layers, etc.) and optimizes the design based on performance using a wide range of techniques such as Grid Search, Reinforcement Learning, Gradient Descent, Evolutionary Algorithms, etc. This obviously requires very high computing power. Read this [article](https://lilianweng.github.io/lil-log/2020/08/06/neural-architecture-search.html) to learn more about NAS."
      ]
    },
    {
      "cell_type": "markdown",
      "metadata": {
        "execution": {},
        "id": "Heljf9zCdhMj"
      },
      "source": [
        "## Think! 5: Overview of regularization techniques\n",
        "\n",
        "Which regularization technique today do you think had the most significant effect on the network? Why might do you think so? Can you apply all of the regularization methods on the same network?"
      ]
    },
    {
      "cell_type": "markdown",
      "metadata": {
        "execution": {},
        "id": "wXREPdz_dhMj"
      },
      "source": [
        "---\n",
        "# Summary\n",
        "\n",
        "Congratulations! You have finished the first week of NMA-DL! \n",
        "\n",
        "In this tutorial, you learned more regularization techniques, i.e., L1 and L2 regularization, Dropout, and Data Augmentation. Finally, you have seen that the learning rate of SGD can act as a regularizer. An interesting paper can be found [here](https://arxiv.org/abs/1611.03530). \n",
        "\n",
        "Continue to the Bonus material on *Adversarial Attacks* if you have time left!"
      ]
    },
    {
      "cell_type": "markdown",
      "metadata": {
        "execution": {},
        "id": "Ez5VkgnDdhMj"
      },
      "source": [
        "---\n",
        "# Bonus: Adversarial  Attacks\n",
        "\n",
        "*Time estimate: ~15 mins*"
      ]
    },
    {
      "cell_type": "markdown",
      "metadata": {
        "execution": {},
        "id": "Jw9iowmEdhMj"
      },
      "source": [
        "Designing perturbations to the input data to trick a machine learning model is called an \"adversarial attack\". These attacks are an inevitable consequence of learning in high dimensional space using complex decision boundaries. Depending on the application, these attacks can be very dangerous.\n",
        "\n",
        "<br>\n",
        "\n",
        "<img src=\"https://raw.githubusercontent.com/NeuromatchAcademy/course-content-dl/main/tutorials/static/AdversarialAttacks_w1d5t2.png\">\n",
        "\n",
        "<br>\n",
        "\n",
        "Hence, we need to build models which can defend against such attacks. One possible way to do it is by regularizing the networks, which smooths the decision boundaries. A few ways of building models robust to such attacks are:\n",
        "* [Defensive Distillation](https://deepai.org/machine-learning-glossary-and-terms/defensive-distillation): Models trained via distillation are less prone to such attacks as they are trained on soft labels as there is an element of randomness in the training process.\n",
        "* [Feature Squeezing](https://evademl.org/squeezing/): Identifies adversarial attacks for online classifiers whose model is being used by comparing the model's prediction before and after squeezing the input. \n",
        "* [SGD](https://arxiv.org/abs/1706.06083): You can also pick weight to minimize what the adversary is trying to maximize via SGD.\n",
        "\n",
        "<br>\n",
        "\n",
        "Read more about adversarial attacks [here](https://openai.com/blog/adversarial-example-research/)."
      ]
    }
  ],
  "metadata": {
    "accelerator": "GPU",
    "colab": {
      "collapsed_sections": [],
      "name": "Module1D-Tutorial2",
      "provenance": [],
      "toc_visible": true,
      "include_colab_link": true
    },
    "kernel": {
      "display_name": "Python 3",
      "language": "python",
      "name": "python3"
    },
    "kernelspec": {
      "display_name": "Python 3",
      "name": "python3"
    },
    "widgets": {
      "application/vnd.jupyter.widget-state+json": {
        "386b057b6bcc42dfa05f4994cb4b851e": {
          "model_module": "@jupyter-widgets/controls",
          "model_name": "HBoxModel",
          "model_module_version": "1.5.0",
          "state": {
            "_dom_classes": [],
            "_model_module": "@jupyter-widgets/controls",
            "_model_module_version": "1.5.0",
            "_model_name": "HBoxModel",
            "_view_count": null,
            "_view_module": "@jupyter-widgets/controls",
            "_view_module_version": "1.5.0",
            "_view_name": "HBoxView",
            "box_style": "",
            "children": [
              "IPY_MODEL_39dc7e18cc7c4fde91d08cc24deae3d5",
              "IPY_MODEL_ab4b51a21b364d40b47621d44fa32f5c",
              "IPY_MODEL_a220be201a1248bbb75f0b017dcb7371"
            ],
            "layout": "IPY_MODEL_c9ade6149b20411ca2d1b8d6264d92dc"
          }
        },
        "39dc7e18cc7c4fde91d08cc24deae3d5": {
          "model_module": "@jupyter-widgets/controls",
          "model_name": "HTMLModel",
          "model_module_version": "1.5.0",
          "state": {
            "_dom_classes": [],
            "_model_module": "@jupyter-widgets/controls",
            "_model_module_version": "1.5.0",
            "_model_name": "HTMLModel",
            "_view_count": null,
            "_view_module": "@jupyter-widgets/controls",
            "_view_module_version": "1.5.0",
            "_view_name": "HTMLView",
            "description": "",
            "description_tooltip": null,
            "layout": "IPY_MODEL_ce3f748a92824177abbb84e2c380e093",
            "placeholder": "​",
            "style": "IPY_MODEL_8650e71c20aa4234bf80af7644133e72",
            "value": "100%"
          }
        },
        "ab4b51a21b364d40b47621d44fa32f5c": {
          "model_module": "@jupyter-widgets/controls",
          "model_name": "FloatProgressModel",
          "model_module_version": "1.5.0",
          "state": {
            "_dom_classes": [],
            "_model_module": "@jupyter-widgets/controls",
            "_model_module_version": "1.5.0",
            "_model_name": "FloatProgressModel",
            "_view_count": null,
            "_view_module": "@jupyter-widgets/controls",
            "_view_module_version": "1.5.0",
            "_view_name": "ProgressView",
            "bar_style": "success",
            "description": "",
            "description_tooltip": null,
            "layout": "IPY_MODEL_58b1b3a5a4324d95bb4c315e98b2a1a6",
            "max": 150,
            "min": 0,
            "orientation": "horizontal",
            "style": "IPY_MODEL_d114e1c6fdea414c8316f78706ff481a",
            "value": 150
          }
        },
        "a220be201a1248bbb75f0b017dcb7371": {
          "model_module": "@jupyter-widgets/controls",
          "model_name": "HTMLModel",
          "model_module_version": "1.5.0",
          "state": {
            "_dom_classes": [],
            "_model_module": "@jupyter-widgets/controls",
            "_model_module_version": "1.5.0",
            "_model_name": "HTMLModel",
            "_view_count": null,
            "_view_module": "@jupyter-widgets/controls",
            "_view_module_version": "1.5.0",
            "_view_name": "HTMLView",
            "description": "",
            "description_tooltip": null,
            "layout": "IPY_MODEL_74fc19612f234ed4839b8b4b31c83082",
            "placeholder": "​",
            "style": "IPY_MODEL_f5981c5d74a94a0a940f6fbef76d1295",
            "value": " 150/150 [01:23&lt;00:00,  1.79it/s]"
          }
        },
        "c9ade6149b20411ca2d1b8d6264d92dc": {
          "model_module": "@jupyter-widgets/base",
          "model_name": "LayoutModel",
          "model_module_version": "1.2.0",
          "state": {
            "_model_module": "@jupyter-widgets/base",
            "_model_module_version": "1.2.0",
            "_model_name": "LayoutModel",
            "_view_count": null,
            "_view_module": "@jupyter-widgets/base",
            "_view_module_version": "1.2.0",
            "_view_name": "LayoutView",
            "align_content": null,
            "align_items": null,
            "align_self": null,
            "border": null,
            "bottom": null,
            "display": null,
            "flex": null,
            "flex_flow": null,
            "grid_area": null,
            "grid_auto_columns": null,
            "grid_auto_flow": null,
            "grid_auto_rows": null,
            "grid_column": null,
            "grid_gap": null,
            "grid_row": null,
            "grid_template_areas": null,
            "grid_template_columns": null,
            "grid_template_rows": null,
            "height": null,
            "justify_content": null,
            "justify_items": null,
            "left": null,
            "margin": null,
            "max_height": null,
            "max_width": null,
            "min_height": null,
            "min_width": null,
            "object_fit": null,
            "object_position": null,
            "order": null,
            "overflow": null,
            "overflow_x": null,
            "overflow_y": null,
            "padding": null,
            "right": null,
            "top": null,
            "visibility": null,
            "width": null
          }
        },
        "ce3f748a92824177abbb84e2c380e093": {
          "model_module": "@jupyter-widgets/base",
          "model_name": "LayoutModel",
          "model_module_version": "1.2.0",
          "state": {
            "_model_module": "@jupyter-widgets/base",
            "_model_module_version": "1.2.0",
            "_model_name": "LayoutModel",
            "_view_count": null,
            "_view_module": "@jupyter-widgets/base",
            "_view_module_version": "1.2.0",
            "_view_name": "LayoutView",
            "align_content": null,
            "align_items": null,
            "align_self": null,
            "border": null,
            "bottom": null,
            "display": null,
            "flex": null,
            "flex_flow": null,
            "grid_area": null,
            "grid_auto_columns": null,
            "grid_auto_flow": null,
            "grid_auto_rows": null,
            "grid_column": null,
            "grid_gap": null,
            "grid_row": null,
            "grid_template_areas": null,
            "grid_template_columns": null,
            "grid_template_rows": null,
            "height": null,
            "justify_content": null,
            "justify_items": null,
            "left": null,
            "margin": null,
            "max_height": null,
            "max_width": null,
            "min_height": null,
            "min_width": null,
            "object_fit": null,
            "object_position": null,
            "order": null,
            "overflow": null,
            "overflow_x": null,
            "overflow_y": null,
            "padding": null,
            "right": null,
            "top": null,
            "visibility": null,
            "width": null
          }
        },
        "8650e71c20aa4234bf80af7644133e72": {
          "model_module": "@jupyter-widgets/controls",
          "model_name": "DescriptionStyleModel",
          "model_module_version": "1.5.0",
          "state": {
            "_model_module": "@jupyter-widgets/controls",
            "_model_module_version": "1.5.0",
            "_model_name": "DescriptionStyleModel",
            "_view_count": null,
            "_view_module": "@jupyter-widgets/base",
            "_view_module_version": "1.2.0",
            "_view_name": "StyleView",
            "description_width": ""
          }
        },
        "58b1b3a5a4324d95bb4c315e98b2a1a6": {
          "model_module": "@jupyter-widgets/base",
          "model_name": "LayoutModel",
          "model_module_version": "1.2.0",
          "state": {
            "_model_module": "@jupyter-widgets/base",
            "_model_module_version": "1.2.0",
            "_model_name": "LayoutModel",
            "_view_count": null,
            "_view_module": "@jupyter-widgets/base",
            "_view_module_version": "1.2.0",
            "_view_name": "LayoutView",
            "align_content": null,
            "align_items": null,
            "align_self": null,
            "border": null,
            "bottom": null,
            "display": null,
            "flex": null,
            "flex_flow": null,
            "grid_area": null,
            "grid_auto_columns": null,
            "grid_auto_flow": null,
            "grid_auto_rows": null,
            "grid_column": null,
            "grid_gap": null,
            "grid_row": null,
            "grid_template_areas": null,
            "grid_template_columns": null,
            "grid_template_rows": null,
            "height": null,
            "justify_content": null,
            "justify_items": null,
            "left": null,
            "margin": null,
            "max_height": null,
            "max_width": null,
            "min_height": null,
            "min_width": null,
            "object_fit": null,
            "object_position": null,
            "order": null,
            "overflow": null,
            "overflow_x": null,
            "overflow_y": null,
            "padding": null,
            "right": null,
            "top": null,
            "visibility": null,
            "width": null
          }
        },
        "d114e1c6fdea414c8316f78706ff481a": {
          "model_module": "@jupyter-widgets/controls",
          "model_name": "ProgressStyleModel",
          "model_module_version": "1.5.0",
          "state": {
            "_model_module": "@jupyter-widgets/controls",
            "_model_module_version": "1.5.0",
            "_model_name": "ProgressStyleModel",
            "_view_count": null,
            "_view_module": "@jupyter-widgets/base",
            "_view_module_version": "1.2.0",
            "_view_name": "StyleView",
            "bar_color": null,
            "description_width": ""
          }
        },
        "74fc19612f234ed4839b8b4b31c83082": {
          "model_module": "@jupyter-widgets/base",
          "model_name": "LayoutModel",
          "model_module_version": "1.2.0",
          "state": {
            "_model_module": "@jupyter-widgets/base",
            "_model_module_version": "1.2.0",
            "_model_name": "LayoutModel",
            "_view_count": null,
            "_view_module": "@jupyter-widgets/base",
            "_view_module_version": "1.2.0",
            "_view_name": "LayoutView",
            "align_content": null,
            "align_items": null,
            "align_self": null,
            "border": null,
            "bottom": null,
            "display": null,
            "flex": null,
            "flex_flow": null,
            "grid_area": null,
            "grid_auto_columns": null,
            "grid_auto_flow": null,
            "grid_auto_rows": null,
            "grid_column": null,
            "grid_gap": null,
            "grid_row": null,
            "grid_template_areas": null,
            "grid_template_columns": null,
            "grid_template_rows": null,
            "height": null,
            "justify_content": null,
            "justify_items": null,
            "left": null,
            "margin": null,
            "max_height": null,
            "max_width": null,
            "min_height": null,
            "min_width": null,
            "object_fit": null,
            "object_position": null,
            "order": null,
            "overflow": null,
            "overflow_x": null,
            "overflow_y": null,
            "padding": null,
            "right": null,
            "top": null,
            "visibility": null,
            "width": null
          }
        },
        "f5981c5d74a94a0a940f6fbef76d1295": {
          "model_module": "@jupyter-widgets/controls",
          "model_name": "DescriptionStyleModel",
          "model_module_version": "1.5.0",
          "state": {
            "_model_module": "@jupyter-widgets/controls",
            "_model_module_version": "1.5.0",
            "_model_name": "DescriptionStyleModel",
            "_view_count": null,
            "_view_module": "@jupyter-widgets/base",
            "_view_module_version": "1.2.0",
            "_view_name": "StyleView",
            "description_width": ""
          }
        },
        "c564e71dc93b48ca80fd42dfd418311b": {
          "model_module": "@jupyter-widgets/controls",
          "model_name": "HBoxModel",
          "model_module_version": "1.5.0",
          "state": {
            "_dom_classes": [],
            "_model_module": "@jupyter-widgets/controls",
            "_model_module_version": "1.5.0",
            "_model_name": "HBoxModel",
            "_view_count": null,
            "_view_module": "@jupyter-widgets/controls",
            "_view_module_version": "1.5.0",
            "_view_name": "HBoxView",
            "box_style": "",
            "children": [
              "IPY_MODEL_987742a7fb4e4727807ba77aea5f9cfe",
              "IPY_MODEL_bb236ca34c5d41e18e0c4dbfd99062ce",
              "IPY_MODEL_b8850d4d8a204c42833602bef27e1bbd"
            ],
            "layout": "IPY_MODEL_1f523a2eb3044ad1bad5d377ca44e488"
          }
        },
        "987742a7fb4e4727807ba77aea5f9cfe": {
          "model_module": "@jupyter-widgets/controls",
          "model_name": "HTMLModel",
          "model_module_version": "1.5.0",
          "state": {
            "_dom_classes": [],
            "_model_module": "@jupyter-widgets/controls",
            "_model_module_version": "1.5.0",
            "_model_name": "HTMLModel",
            "_view_count": null,
            "_view_module": "@jupyter-widgets/controls",
            "_view_module_version": "1.5.0",
            "_view_name": "HTMLView",
            "description": "",
            "description_tooltip": null,
            "layout": "IPY_MODEL_8b5346cbb5ec468296f24e5f5eb65206",
            "placeholder": "​",
            "style": "IPY_MODEL_b8b9b21bc3eb4e84bf7496f8c2f1530e",
            "value": "  0%"
          }
        },
        "bb236ca34c5d41e18e0c4dbfd99062ce": {
          "model_module": "@jupyter-widgets/controls",
          "model_name": "FloatProgressModel",
          "model_module_version": "1.5.0",
          "state": {
            "_dom_classes": [],
            "_model_module": "@jupyter-widgets/controls",
            "_model_module_version": "1.5.0",
            "_model_name": "FloatProgressModel",
            "_view_count": null,
            "_view_module": "@jupyter-widgets/controls",
            "_view_module_version": "1.5.0",
            "_view_name": "ProgressView",
            "bar_style": "danger",
            "description": "",
            "description_tooltip": null,
            "layout": "IPY_MODEL_66a77affd8e04095a1c9ec5b82b44922",
            "max": 150,
            "min": 0,
            "orientation": "horizontal",
            "style": "IPY_MODEL_5095bf7d70894c958fb4e78af03aaa32",
            "value": 0
          }
        },
        "b8850d4d8a204c42833602bef27e1bbd": {
          "model_module": "@jupyter-widgets/controls",
          "model_name": "HTMLModel",
          "model_module_version": "1.5.0",
          "state": {
            "_dom_classes": [],
            "_model_module": "@jupyter-widgets/controls",
            "_model_module_version": "1.5.0",
            "_model_name": "HTMLModel",
            "_view_count": null,
            "_view_module": "@jupyter-widgets/controls",
            "_view_module_version": "1.5.0",
            "_view_name": "HTMLView",
            "description": "",
            "description_tooltip": null,
            "layout": "IPY_MODEL_5a69c9a088224a17917ad6bc3225d83a",
            "placeholder": "​",
            "style": "IPY_MODEL_0bd2b01ac9364c0d808439c3d723a0b0",
            "value": " 0/150 [00:00&lt;?, ?it/s]"
          }
        },
        "1f523a2eb3044ad1bad5d377ca44e488": {
          "model_module": "@jupyter-widgets/base",
          "model_name": "LayoutModel",
          "model_module_version": "1.2.0",
          "state": {
            "_model_module": "@jupyter-widgets/base",
            "_model_module_version": "1.2.0",
            "_model_name": "LayoutModel",
            "_view_count": null,
            "_view_module": "@jupyter-widgets/base",
            "_view_module_version": "1.2.0",
            "_view_name": "LayoutView",
            "align_content": null,
            "align_items": null,
            "align_self": null,
            "border": null,
            "bottom": null,
            "display": null,
            "flex": null,
            "flex_flow": null,
            "grid_area": null,
            "grid_auto_columns": null,
            "grid_auto_flow": null,
            "grid_auto_rows": null,
            "grid_column": null,
            "grid_gap": null,
            "grid_row": null,
            "grid_template_areas": null,
            "grid_template_columns": null,
            "grid_template_rows": null,
            "height": null,
            "justify_content": null,
            "justify_items": null,
            "left": null,
            "margin": null,
            "max_height": null,
            "max_width": null,
            "min_height": null,
            "min_width": null,
            "object_fit": null,
            "object_position": null,
            "order": null,
            "overflow": null,
            "overflow_x": null,
            "overflow_y": null,
            "padding": null,
            "right": null,
            "top": null,
            "visibility": null,
            "width": null
          }
        },
        "8b5346cbb5ec468296f24e5f5eb65206": {
          "model_module": "@jupyter-widgets/base",
          "model_name": "LayoutModel",
          "model_module_version": "1.2.0",
          "state": {
            "_model_module": "@jupyter-widgets/base",
            "_model_module_version": "1.2.0",
            "_model_name": "LayoutModel",
            "_view_count": null,
            "_view_module": "@jupyter-widgets/base",
            "_view_module_version": "1.2.0",
            "_view_name": "LayoutView",
            "align_content": null,
            "align_items": null,
            "align_self": null,
            "border": null,
            "bottom": null,
            "display": null,
            "flex": null,
            "flex_flow": null,
            "grid_area": null,
            "grid_auto_columns": null,
            "grid_auto_flow": null,
            "grid_auto_rows": null,
            "grid_column": null,
            "grid_gap": null,
            "grid_row": null,
            "grid_template_areas": null,
            "grid_template_columns": null,
            "grid_template_rows": null,
            "height": null,
            "justify_content": null,
            "justify_items": null,
            "left": null,
            "margin": null,
            "max_height": null,
            "max_width": null,
            "min_height": null,
            "min_width": null,
            "object_fit": null,
            "object_position": null,
            "order": null,
            "overflow": null,
            "overflow_x": null,
            "overflow_y": null,
            "padding": null,
            "right": null,
            "top": null,
            "visibility": null,
            "width": null
          }
        },
        "b8b9b21bc3eb4e84bf7496f8c2f1530e": {
          "model_module": "@jupyter-widgets/controls",
          "model_name": "DescriptionStyleModel",
          "model_module_version": "1.5.0",
          "state": {
            "_model_module": "@jupyter-widgets/controls",
            "_model_module_version": "1.5.0",
            "_model_name": "DescriptionStyleModel",
            "_view_count": null,
            "_view_module": "@jupyter-widgets/base",
            "_view_module_version": "1.2.0",
            "_view_name": "StyleView",
            "description_width": ""
          }
        },
        "66a77affd8e04095a1c9ec5b82b44922": {
          "model_module": "@jupyter-widgets/base",
          "model_name": "LayoutModel",
          "model_module_version": "1.2.0",
          "state": {
            "_model_module": "@jupyter-widgets/base",
            "_model_module_version": "1.2.0",
            "_model_name": "LayoutModel",
            "_view_count": null,
            "_view_module": "@jupyter-widgets/base",
            "_view_module_version": "1.2.0",
            "_view_name": "LayoutView",
            "align_content": null,
            "align_items": null,
            "align_self": null,
            "border": null,
            "bottom": null,
            "display": null,
            "flex": null,
            "flex_flow": null,
            "grid_area": null,
            "grid_auto_columns": null,
            "grid_auto_flow": null,
            "grid_auto_rows": null,
            "grid_column": null,
            "grid_gap": null,
            "grid_row": null,
            "grid_template_areas": null,
            "grid_template_columns": null,
            "grid_template_rows": null,
            "height": null,
            "justify_content": null,
            "justify_items": null,
            "left": null,
            "margin": null,
            "max_height": null,
            "max_width": null,
            "min_height": null,
            "min_width": null,
            "object_fit": null,
            "object_position": null,
            "order": null,
            "overflow": null,
            "overflow_x": null,
            "overflow_y": null,
            "padding": null,
            "right": null,
            "top": null,
            "visibility": null,
            "width": null
          }
        },
        "5095bf7d70894c958fb4e78af03aaa32": {
          "model_module": "@jupyter-widgets/controls",
          "model_name": "ProgressStyleModel",
          "model_module_version": "1.5.0",
          "state": {
            "_model_module": "@jupyter-widgets/controls",
            "_model_module_version": "1.5.0",
            "_model_name": "ProgressStyleModel",
            "_view_count": null,
            "_view_module": "@jupyter-widgets/base",
            "_view_module_version": "1.2.0",
            "_view_name": "StyleView",
            "bar_color": null,
            "description_width": ""
          }
        },
        "5a69c9a088224a17917ad6bc3225d83a": {
          "model_module": "@jupyter-widgets/base",
          "model_name": "LayoutModel",
          "model_module_version": "1.2.0",
          "state": {
            "_model_module": "@jupyter-widgets/base",
            "_model_module_version": "1.2.0",
            "_model_name": "LayoutModel",
            "_view_count": null,
            "_view_module": "@jupyter-widgets/base",
            "_view_module_version": "1.2.0",
            "_view_name": "LayoutView",
            "align_content": null,
            "align_items": null,
            "align_self": null,
            "border": null,
            "bottom": null,
            "display": null,
            "flex": null,
            "flex_flow": null,
            "grid_area": null,
            "grid_auto_columns": null,
            "grid_auto_flow": null,
            "grid_auto_rows": null,
            "grid_column": null,
            "grid_gap": null,
            "grid_row": null,
            "grid_template_areas": null,
            "grid_template_columns": null,
            "grid_template_rows": null,
            "height": null,
            "justify_content": null,
            "justify_items": null,
            "left": null,
            "margin": null,
            "max_height": null,
            "max_width": null,
            "min_height": null,
            "min_width": null,
            "object_fit": null,
            "object_position": null,
            "order": null,
            "overflow": null,
            "overflow_x": null,
            "overflow_y": null,
            "padding": null,
            "right": null,
            "top": null,
            "visibility": null,
            "width": null
          }
        },
        "0bd2b01ac9364c0d808439c3d723a0b0": {
          "model_module": "@jupyter-widgets/controls",
          "model_name": "DescriptionStyleModel",
          "model_module_version": "1.5.0",
          "state": {
            "_model_module": "@jupyter-widgets/controls",
            "_model_module_version": "1.5.0",
            "_model_name": "DescriptionStyleModel",
            "_view_count": null,
            "_view_module": "@jupyter-widgets/base",
            "_view_module_version": "1.2.0",
            "_view_name": "StyleView",
            "description_width": ""
          }
        },
        "cbb4123b649045de9f2c28d99b267101": {
          "model_module": "@jupyter-widgets/controls",
          "model_name": "HBoxModel",
          "model_module_version": "1.5.0",
          "state": {
            "_dom_classes": [],
            "_model_module": "@jupyter-widgets/controls",
            "_model_module_version": "1.5.0",
            "_model_name": "HBoxModel",
            "_view_count": null,
            "_view_module": "@jupyter-widgets/controls",
            "_view_module_version": "1.5.0",
            "_view_name": "HBoxView",
            "box_style": "",
            "children": [
              "IPY_MODEL_3d6b575b71e24a8d9e31b993843ed649",
              "IPY_MODEL_93a79524f7ed44b09a2fa9f1e2f88188",
              "IPY_MODEL_8298a8511a3c46538a9bd13c579c99d9"
            ],
            "layout": "IPY_MODEL_02c214fb75f64f74821dc9bb20c2f35c"
          }
        },
        "3d6b575b71e24a8d9e31b993843ed649": {
          "model_module": "@jupyter-widgets/controls",
          "model_name": "HTMLModel",
          "model_module_version": "1.5.0",
          "state": {
            "_dom_classes": [],
            "_model_module": "@jupyter-widgets/controls",
            "_model_module_version": "1.5.0",
            "_model_name": "HTMLModel",
            "_view_count": null,
            "_view_module": "@jupyter-widgets/controls",
            "_view_module_version": "1.5.0",
            "_view_name": "HTMLView",
            "description": "",
            "description_tooltip": null,
            "layout": "IPY_MODEL_96674df87c2b4d269443ccc35d4edd4d",
            "placeholder": "​",
            "style": "IPY_MODEL_b50813f7e1ee4272937ecc568821da26",
            "value": "100%"
          }
        },
        "93a79524f7ed44b09a2fa9f1e2f88188": {
          "model_module": "@jupyter-widgets/controls",
          "model_name": "FloatProgressModel",
          "model_module_version": "1.5.0",
          "state": {
            "_dom_classes": [],
            "_model_module": "@jupyter-widgets/controls",
            "_model_module_version": "1.5.0",
            "_model_name": "FloatProgressModel",
            "_view_count": null,
            "_view_module": "@jupyter-widgets/controls",
            "_view_module_version": "1.5.0",
            "_view_name": "ProgressView",
            "bar_style": "success",
            "description": "",
            "description_tooltip": null,
            "layout": "IPY_MODEL_a1157f0004414148b271e89fc6c07409",
            "max": 250,
            "min": 0,
            "orientation": "horizontal",
            "style": "IPY_MODEL_ceb272e4efd249deb03c326e7fd8dd65",
            "value": 250
          }
        },
        "8298a8511a3c46538a9bd13c579c99d9": {
          "model_module": "@jupyter-widgets/controls",
          "model_name": "HTMLModel",
          "model_module_version": "1.5.0",
          "state": {
            "_dom_classes": [],
            "_model_module": "@jupyter-widgets/controls",
            "_model_module_version": "1.5.0",
            "_model_name": "HTMLModel",
            "_view_count": null,
            "_view_module": "@jupyter-widgets/controls",
            "_view_module_version": "1.5.0",
            "_view_name": "HTMLView",
            "description": "",
            "description_tooltip": null,
            "layout": "IPY_MODEL_112472d7be2e4c8996d4d7ebf52876c9",
            "placeholder": "​",
            "style": "IPY_MODEL_0c9a351c74f84f71a4ea558208dce4cd",
            "value": " 250/250 [01:56&lt;00:00,  2.32it/s]"
          }
        },
        "02c214fb75f64f74821dc9bb20c2f35c": {
          "model_module": "@jupyter-widgets/base",
          "model_name": "LayoutModel",
          "model_module_version": "1.2.0",
          "state": {
            "_model_module": "@jupyter-widgets/base",
            "_model_module_version": "1.2.0",
            "_model_name": "LayoutModel",
            "_view_count": null,
            "_view_module": "@jupyter-widgets/base",
            "_view_module_version": "1.2.0",
            "_view_name": "LayoutView",
            "align_content": null,
            "align_items": null,
            "align_self": null,
            "border": null,
            "bottom": null,
            "display": null,
            "flex": null,
            "flex_flow": null,
            "grid_area": null,
            "grid_auto_columns": null,
            "grid_auto_flow": null,
            "grid_auto_rows": null,
            "grid_column": null,
            "grid_gap": null,
            "grid_row": null,
            "grid_template_areas": null,
            "grid_template_columns": null,
            "grid_template_rows": null,
            "height": null,
            "justify_content": null,
            "justify_items": null,
            "left": null,
            "margin": null,
            "max_height": null,
            "max_width": null,
            "min_height": null,
            "min_width": null,
            "object_fit": null,
            "object_position": null,
            "order": null,
            "overflow": null,
            "overflow_x": null,
            "overflow_y": null,
            "padding": null,
            "right": null,
            "top": null,
            "visibility": null,
            "width": null
          }
        },
        "96674df87c2b4d269443ccc35d4edd4d": {
          "model_module": "@jupyter-widgets/base",
          "model_name": "LayoutModel",
          "model_module_version": "1.2.0",
          "state": {
            "_model_module": "@jupyter-widgets/base",
            "_model_module_version": "1.2.0",
            "_model_name": "LayoutModel",
            "_view_count": null,
            "_view_module": "@jupyter-widgets/base",
            "_view_module_version": "1.2.0",
            "_view_name": "LayoutView",
            "align_content": null,
            "align_items": null,
            "align_self": null,
            "border": null,
            "bottom": null,
            "display": null,
            "flex": null,
            "flex_flow": null,
            "grid_area": null,
            "grid_auto_columns": null,
            "grid_auto_flow": null,
            "grid_auto_rows": null,
            "grid_column": null,
            "grid_gap": null,
            "grid_row": null,
            "grid_template_areas": null,
            "grid_template_columns": null,
            "grid_template_rows": null,
            "height": null,
            "justify_content": null,
            "justify_items": null,
            "left": null,
            "margin": null,
            "max_height": null,
            "max_width": null,
            "min_height": null,
            "min_width": null,
            "object_fit": null,
            "object_position": null,
            "order": null,
            "overflow": null,
            "overflow_x": null,
            "overflow_y": null,
            "padding": null,
            "right": null,
            "top": null,
            "visibility": null,
            "width": null
          }
        },
        "b50813f7e1ee4272937ecc568821da26": {
          "model_module": "@jupyter-widgets/controls",
          "model_name": "DescriptionStyleModel",
          "model_module_version": "1.5.0",
          "state": {
            "_model_module": "@jupyter-widgets/controls",
            "_model_module_version": "1.5.0",
            "_model_name": "DescriptionStyleModel",
            "_view_count": null,
            "_view_module": "@jupyter-widgets/base",
            "_view_module_version": "1.2.0",
            "_view_name": "StyleView",
            "description_width": ""
          }
        },
        "a1157f0004414148b271e89fc6c07409": {
          "model_module": "@jupyter-widgets/base",
          "model_name": "LayoutModel",
          "model_module_version": "1.2.0",
          "state": {
            "_model_module": "@jupyter-widgets/base",
            "_model_module_version": "1.2.0",
            "_model_name": "LayoutModel",
            "_view_count": null,
            "_view_module": "@jupyter-widgets/base",
            "_view_module_version": "1.2.0",
            "_view_name": "LayoutView",
            "align_content": null,
            "align_items": null,
            "align_self": null,
            "border": null,
            "bottom": null,
            "display": null,
            "flex": null,
            "flex_flow": null,
            "grid_area": null,
            "grid_auto_columns": null,
            "grid_auto_flow": null,
            "grid_auto_rows": null,
            "grid_column": null,
            "grid_gap": null,
            "grid_row": null,
            "grid_template_areas": null,
            "grid_template_columns": null,
            "grid_template_rows": null,
            "height": null,
            "justify_content": null,
            "justify_items": null,
            "left": null,
            "margin": null,
            "max_height": null,
            "max_width": null,
            "min_height": null,
            "min_width": null,
            "object_fit": null,
            "object_position": null,
            "order": null,
            "overflow": null,
            "overflow_x": null,
            "overflow_y": null,
            "padding": null,
            "right": null,
            "top": null,
            "visibility": null,
            "width": null
          }
        },
        "ceb272e4efd249deb03c326e7fd8dd65": {
          "model_module": "@jupyter-widgets/controls",
          "model_name": "ProgressStyleModel",
          "model_module_version": "1.5.0",
          "state": {
            "_model_module": "@jupyter-widgets/controls",
            "_model_module_version": "1.5.0",
            "_model_name": "ProgressStyleModel",
            "_view_count": null,
            "_view_module": "@jupyter-widgets/base",
            "_view_module_version": "1.2.0",
            "_view_name": "StyleView",
            "bar_color": null,
            "description_width": ""
          }
        },
        "112472d7be2e4c8996d4d7ebf52876c9": {
          "model_module": "@jupyter-widgets/base",
          "model_name": "LayoutModel",
          "model_module_version": "1.2.0",
          "state": {
            "_model_module": "@jupyter-widgets/base",
            "_model_module_version": "1.2.0",
            "_model_name": "LayoutModel",
            "_view_count": null,
            "_view_module": "@jupyter-widgets/base",
            "_view_module_version": "1.2.0",
            "_view_name": "LayoutView",
            "align_content": null,
            "align_items": null,
            "align_self": null,
            "border": null,
            "bottom": null,
            "display": null,
            "flex": null,
            "flex_flow": null,
            "grid_area": null,
            "grid_auto_columns": null,
            "grid_auto_flow": null,
            "grid_auto_rows": null,
            "grid_column": null,
            "grid_gap": null,
            "grid_row": null,
            "grid_template_areas": null,
            "grid_template_columns": null,
            "grid_template_rows": null,
            "height": null,
            "justify_content": null,
            "justify_items": null,
            "left": null,
            "margin": null,
            "max_height": null,
            "max_width": null,
            "min_height": null,
            "min_width": null,
            "object_fit": null,
            "object_position": null,
            "order": null,
            "overflow": null,
            "overflow_x": null,
            "overflow_y": null,
            "padding": null,
            "right": null,
            "top": null,
            "visibility": null,
            "width": null
          }
        },
        "0c9a351c74f84f71a4ea558208dce4cd": {
          "model_module": "@jupyter-widgets/controls",
          "model_name": "DescriptionStyleModel",
          "model_module_version": "1.5.0",
          "state": {
            "_model_module": "@jupyter-widgets/controls",
            "_model_module_version": "1.5.0",
            "_model_name": "DescriptionStyleModel",
            "_view_count": null,
            "_view_module": "@jupyter-widgets/base",
            "_view_module_version": "1.2.0",
            "_view_name": "StyleView",
            "description_width": ""
          }
        },
        "68abf9eac859481baa669019bc7a8ab9": {
          "model_module": "@jupyter-widgets/controls",
          "model_name": "HBoxModel",
          "model_module_version": "1.5.0",
          "state": {
            "_dom_classes": [],
            "_model_module": "@jupyter-widgets/controls",
            "_model_module_version": "1.5.0",
            "_model_name": "HBoxModel",
            "_view_count": null,
            "_view_module": "@jupyter-widgets/controls",
            "_view_module_version": "1.5.0",
            "_view_name": "HBoxView",
            "box_style": "",
            "children": [
              "IPY_MODEL_c5783e81e3744b2099dd5b33168e40bd",
              "IPY_MODEL_8ef2d5ce17bf4ec79d709f61c7d41761",
              "IPY_MODEL_6d8ed8930bfa47008836ef36a771b2dc"
            ],
            "layout": "IPY_MODEL_1112c3375bc4495c963ecd472b84af30"
          }
        },
        "c5783e81e3744b2099dd5b33168e40bd": {
          "model_module": "@jupyter-widgets/controls",
          "model_name": "HTMLModel",
          "model_module_version": "1.5.0",
          "state": {
            "_dom_classes": [],
            "_model_module": "@jupyter-widgets/controls",
            "_model_module_version": "1.5.0",
            "_model_name": "HTMLModel",
            "_view_count": null,
            "_view_module": "@jupyter-widgets/controls",
            "_view_module_version": "1.5.0",
            "_view_name": "HTMLView",
            "description": "",
            "description_tooltip": null,
            "layout": "IPY_MODEL_745cda6e5d934c2ea36f12c30b03a9e7",
            "placeholder": "​",
            "style": "IPY_MODEL_933953a6daa7490e9ecd341fdffe0532",
            "value": "100%"
          }
        },
        "8ef2d5ce17bf4ec79d709f61c7d41761": {
          "model_module": "@jupyter-widgets/controls",
          "model_name": "FloatProgressModel",
          "model_module_version": "1.5.0",
          "state": {
            "_dom_classes": [],
            "_model_module": "@jupyter-widgets/controls",
            "_model_module_version": "1.5.0",
            "_model_name": "FloatProgressModel",
            "_view_count": null,
            "_view_module": "@jupyter-widgets/controls",
            "_view_module_version": "1.5.0",
            "_view_name": "ProgressView",
            "bar_style": "success",
            "description": "",
            "description_tooltip": null,
            "layout": "IPY_MODEL_c91ab8e8f44c4334bd545efb6528ccf1",
            "max": 250,
            "min": 0,
            "orientation": "horizontal",
            "style": "IPY_MODEL_d5dd85d1e3ca48bdba819efa3732ee9a",
            "value": 250
          }
        },
        "6d8ed8930bfa47008836ef36a771b2dc": {
          "model_module": "@jupyter-widgets/controls",
          "model_name": "HTMLModel",
          "model_module_version": "1.5.0",
          "state": {
            "_dom_classes": [],
            "_model_module": "@jupyter-widgets/controls",
            "_model_module_version": "1.5.0",
            "_model_name": "HTMLModel",
            "_view_count": null,
            "_view_module": "@jupyter-widgets/controls",
            "_view_module_version": "1.5.0",
            "_view_name": "HTMLView",
            "description": "",
            "description_tooltip": null,
            "layout": "IPY_MODEL_ad43c23023b84a739af055b6ab1c4f09",
            "placeholder": "​",
            "style": "IPY_MODEL_5b60226443fc43ae9ed7e5a62a7429fc",
            "value": " 250/250 [03:05&lt;00:00,  1.51it/s]"
          }
        },
        "1112c3375bc4495c963ecd472b84af30": {
          "model_module": "@jupyter-widgets/base",
          "model_name": "LayoutModel",
          "model_module_version": "1.2.0",
          "state": {
            "_model_module": "@jupyter-widgets/base",
            "_model_module_version": "1.2.0",
            "_model_name": "LayoutModel",
            "_view_count": null,
            "_view_module": "@jupyter-widgets/base",
            "_view_module_version": "1.2.0",
            "_view_name": "LayoutView",
            "align_content": null,
            "align_items": null,
            "align_self": null,
            "border": null,
            "bottom": null,
            "display": null,
            "flex": null,
            "flex_flow": null,
            "grid_area": null,
            "grid_auto_columns": null,
            "grid_auto_flow": null,
            "grid_auto_rows": null,
            "grid_column": null,
            "grid_gap": null,
            "grid_row": null,
            "grid_template_areas": null,
            "grid_template_columns": null,
            "grid_template_rows": null,
            "height": null,
            "justify_content": null,
            "justify_items": null,
            "left": null,
            "margin": null,
            "max_height": null,
            "max_width": null,
            "min_height": null,
            "min_width": null,
            "object_fit": null,
            "object_position": null,
            "order": null,
            "overflow": null,
            "overflow_x": null,
            "overflow_y": null,
            "padding": null,
            "right": null,
            "top": null,
            "visibility": null,
            "width": null
          }
        },
        "745cda6e5d934c2ea36f12c30b03a9e7": {
          "model_module": "@jupyter-widgets/base",
          "model_name": "LayoutModel",
          "model_module_version": "1.2.0",
          "state": {
            "_model_module": "@jupyter-widgets/base",
            "_model_module_version": "1.2.0",
            "_model_name": "LayoutModel",
            "_view_count": null,
            "_view_module": "@jupyter-widgets/base",
            "_view_module_version": "1.2.0",
            "_view_name": "LayoutView",
            "align_content": null,
            "align_items": null,
            "align_self": null,
            "border": null,
            "bottom": null,
            "display": null,
            "flex": null,
            "flex_flow": null,
            "grid_area": null,
            "grid_auto_columns": null,
            "grid_auto_flow": null,
            "grid_auto_rows": null,
            "grid_column": null,
            "grid_gap": null,
            "grid_row": null,
            "grid_template_areas": null,
            "grid_template_columns": null,
            "grid_template_rows": null,
            "height": null,
            "justify_content": null,
            "justify_items": null,
            "left": null,
            "margin": null,
            "max_height": null,
            "max_width": null,
            "min_height": null,
            "min_width": null,
            "object_fit": null,
            "object_position": null,
            "order": null,
            "overflow": null,
            "overflow_x": null,
            "overflow_y": null,
            "padding": null,
            "right": null,
            "top": null,
            "visibility": null,
            "width": null
          }
        },
        "933953a6daa7490e9ecd341fdffe0532": {
          "model_module": "@jupyter-widgets/controls",
          "model_name": "DescriptionStyleModel",
          "model_module_version": "1.5.0",
          "state": {
            "_model_module": "@jupyter-widgets/controls",
            "_model_module_version": "1.5.0",
            "_model_name": "DescriptionStyleModel",
            "_view_count": null,
            "_view_module": "@jupyter-widgets/base",
            "_view_module_version": "1.2.0",
            "_view_name": "StyleView",
            "description_width": ""
          }
        },
        "c91ab8e8f44c4334bd545efb6528ccf1": {
          "model_module": "@jupyter-widgets/base",
          "model_name": "LayoutModel",
          "model_module_version": "1.2.0",
          "state": {
            "_model_module": "@jupyter-widgets/base",
            "_model_module_version": "1.2.0",
            "_model_name": "LayoutModel",
            "_view_count": null,
            "_view_module": "@jupyter-widgets/base",
            "_view_module_version": "1.2.0",
            "_view_name": "LayoutView",
            "align_content": null,
            "align_items": null,
            "align_self": null,
            "border": null,
            "bottom": null,
            "display": null,
            "flex": null,
            "flex_flow": null,
            "grid_area": null,
            "grid_auto_columns": null,
            "grid_auto_flow": null,
            "grid_auto_rows": null,
            "grid_column": null,
            "grid_gap": null,
            "grid_row": null,
            "grid_template_areas": null,
            "grid_template_columns": null,
            "grid_template_rows": null,
            "height": null,
            "justify_content": null,
            "justify_items": null,
            "left": null,
            "margin": null,
            "max_height": null,
            "max_width": null,
            "min_height": null,
            "min_width": null,
            "object_fit": null,
            "object_position": null,
            "order": null,
            "overflow": null,
            "overflow_x": null,
            "overflow_y": null,
            "padding": null,
            "right": null,
            "top": null,
            "visibility": null,
            "width": null
          }
        },
        "d5dd85d1e3ca48bdba819efa3732ee9a": {
          "model_module": "@jupyter-widgets/controls",
          "model_name": "ProgressStyleModel",
          "model_module_version": "1.5.0",
          "state": {
            "_model_module": "@jupyter-widgets/controls",
            "_model_module_version": "1.5.0",
            "_model_name": "ProgressStyleModel",
            "_view_count": null,
            "_view_module": "@jupyter-widgets/base",
            "_view_module_version": "1.2.0",
            "_view_name": "StyleView",
            "bar_color": null,
            "description_width": ""
          }
        },
        "ad43c23023b84a739af055b6ab1c4f09": {
          "model_module": "@jupyter-widgets/base",
          "model_name": "LayoutModel",
          "model_module_version": "1.2.0",
          "state": {
            "_model_module": "@jupyter-widgets/base",
            "_model_module_version": "1.2.0",
            "_model_name": "LayoutModel",
            "_view_count": null,
            "_view_module": "@jupyter-widgets/base",
            "_view_module_version": "1.2.0",
            "_view_name": "LayoutView",
            "align_content": null,
            "align_items": null,
            "align_self": null,
            "border": null,
            "bottom": null,
            "display": null,
            "flex": null,
            "flex_flow": null,
            "grid_area": null,
            "grid_auto_columns": null,
            "grid_auto_flow": null,
            "grid_auto_rows": null,
            "grid_column": null,
            "grid_gap": null,
            "grid_row": null,
            "grid_template_areas": null,
            "grid_template_columns": null,
            "grid_template_rows": null,
            "height": null,
            "justify_content": null,
            "justify_items": null,
            "left": null,
            "margin": null,
            "max_height": null,
            "max_width": null,
            "min_height": null,
            "min_width": null,
            "object_fit": null,
            "object_position": null,
            "order": null,
            "overflow": null,
            "overflow_x": null,
            "overflow_y": null,
            "padding": null,
            "right": null,
            "top": null,
            "visibility": null,
            "width": null
          }
        },
        "5b60226443fc43ae9ed7e5a62a7429fc": {
          "model_module": "@jupyter-widgets/controls",
          "model_name": "DescriptionStyleModel",
          "model_module_version": "1.5.0",
          "state": {
            "_model_module": "@jupyter-widgets/controls",
            "_model_module_version": "1.5.0",
            "_model_name": "DescriptionStyleModel",
            "_view_count": null,
            "_view_module": "@jupyter-widgets/base",
            "_view_module_version": "1.2.0",
            "_view_name": "StyleView",
            "description_width": ""
          }
        }
      }
    }
  },
  "nbformat": 4,
  "nbformat_minor": 0
}